{
 "cells": [
  {
   "cell_type": "code",
   "execution_count": null,
   "metadata": {},
   "outputs": [],
   "source": [
    "from __future__ import print_function\n",
    "from __future__ import division\n",
    "\n",
    "import numpy as np\n",
    "import pandas as pd\n",
    "import seaborn as sns\n",
    "import matplotlib.pyplot as plt\n",
    "%matplotlib inline\n",
    "sns.set_context(rc={'figure.figsize': (14, 7) } )\n",
    "figzize_me = figsize =(14, 7)\n",
    "# import warnings; \n",
    "# warnings.filterwarnings('ignore')\n",
    "\n",
    "import os\n",
    "import sys\n",
    "# 使用insert 0即只使用github，避免交叉使用了pip安装的abupy，导致的版本不一致问题\n",
    "sys.path.insert(0, os.path.abspath('../'))\n",
    "import abupy\n",
    "# 使用沙盒数据，目的是和书中一样的数据环境\n",
    "abupy.env.enable_example_env_ipython()"
   ]
  },
  {
   "attachments": {},
   "cell_type": "markdown",
   "metadata": {},
   "source": [
    "## 第8章 量化系统-开发\n",
    "\n",
    "[abu量化系统github地址](https://github.com/bbfamily/abu) (您的star是我的动力！)\n",
    "\n",
    "[abu量化文档教程ipython notebook](https://github.com/bbfamily/abu/tree/master/abupy_lecture)"
   ]
  },
  {
   "attachments": {},
   "cell_type": "markdown",
   "metadata": {},
   "source": [
    "## 8.1 abu量化系统择时\n",
    "### 8.1.1 买入因子的实现"
   ]
  },
  {
   "cell_type": "code",
   "execution_count": null,
   "metadata": {
    "collapsed": true
   },
   "outputs": [],
   "source": [
    "from abupy import AbuFactorBuyBreak\n",
    "from abupy import AbuBenchmark\n",
    "# buy_factors 60日向上突破，42日向上突破两个因子\n",
    "buy_factors = [{'xd': 60, 'class': AbuFactorBuyBreak}, \n",
    "               {'xd': 42, 'class': AbuFactorBuyBreak}]\n",
    "benchmark = AbuBenchmark()"
   ]
  },
  {
   "cell_type": "code",
   "execution_count": 15,
   "metadata": {},
   "outputs": [
    {
     "name": "stdout",
     "output_type": "stream",
     "text": [
      "<class 'pandas.core.frame.DataFrame'>\n",
      "DatetimeIndex: 504 entries, 2014-07-25 to 2016-07-26\n",
      "Data columns (total 4 columns):\n",
      " #   Column         Non-Null Count  Dtype  \n",
      "---  ------         --------------  -----  \n",
      " 0   cash_blance    1 non-null      float64\n",
      " 1   stocks_blance  504 non-null    float64\n",
      " 2   atr21          504 non-null    float64\n",
      " 3   date           504 non-null    int32  \n",
      "dtypes: float64(3), int32(1)\n",
      "memory usage: 33.9 KB\n",
      "<class 'pandas.core.frame.DataFrame'>\n",
      "RangeIndex: 0 entries\n",
      "Data columns (total 4 columns):\n",
      " #   Column      Non-Null Count  Dtype \n",
      "---  ------      --------------  ----- \n",
      " 0   type        0 non-null      object\n",
      " 1   date        0 non-null      object\n",
      " 2   symbol      0 non-null      object\n",
      " 3   commission  0 non-null      object\n",
      "dtypes: object(4)\n",
      "memory usage: 124.0+ bytes\n",
      "<class 'pandas.core.frame.DataFrame'>\n",
      "DatetimeIndex: 504 entries, 2014-07-25 to 2016-07-26\n",
      "Data columns (total 4 columns):\n",
      " #   Column         Non-Null Count  Dtype  \n",
      "---  ------         --------------  -----  \n",
      " 0   cash_blance    1 non-null      float64\n",
      " 1   stocks_blance  504 non-null    float64\n",
      " 2   atr21          504 non-null    float64\n",
      " 3   date           504 non-null    int32  \n",
      "dtypes: float64(3), int32(1)\n",
      "memory usage: 33.9 KB\n",
      "<class 'pandas.core.frame.DataFrame'>\n",
      "RangeIndex: 0 entries\n",
      "Data columns (total 4 columns):\n",
      " #   Column      Non-Null Count  Dtype \n",
      "---  ------      --------------  ----- \n",
      " 0   type        0 non-null      object\n",
      " 1   date        0 non-null      object\n",
      " 2   symbol      0 non-null      object\n",
      " 3   commission  0 non-null      object\n",
      "dtypes: object(4)\n",
      "memory usage: 124.0+ bytes\n",
      "<class 'pandas.core.frame.DataFrame'>\n",
      "DatetimeIndex: 504 entries, 2014-07-25 to 2016-07-26\n",
      "Data columns (total 4 columns):\n",
      " #   Column         Non-Null Count  Dtype  \n",
      "---  ------         --------------  -----  \n",
      " 0   cash_blance    1 non-null      float64\n",
      " 1   stocks_blance  504 non-null    float64\n",
      " 2   atr21          504 non-null    float64\n",
      " 3   date           504 non-null    int32  \n",
      "dtypes: float64(3), int32(1)\n",
      "memory usage: 33.9 KB\n",
      "<class 'pandas.core.frame.DataFrame'>\n",
      "RangeIndex: 0 entries\n",
      "Data columns (total 4 columns):\n",
      " #   Column      Non-Null Count  Dtype \n",
      "---  ------      --------------  ----- \n",
      " 0   type        0 non-null      object\n",
      " 1   date        0 non-null      object\n",
      " 2   symbol      0 non-null      object\n",
      " 3   commission  0 non-null      object\n",
      "dtypes: object(4)\n",
      "memory usage: 124.0+ bytes\n"
     ]
    },
    {
     "ename": "TypeError",
     "evalue": "unsupported operand type(s) for &: 'DatetimeArray' and 'DatetimeArray'",
     "output_type": "error",
     "traceback": [
      "\u001b[1;31m---------------------------------------------------------------------------\u001b[0m",
      "\u001b[1;31mTypeError\u001b[0m                                 Traceback (most recent call last)",
      "Cell \u001b[1;32mIn[15], line 8\u001b[0m\n\u001b[0;32m      6\u001b[0m kl_pd_manager \u001b[39m=\u001b[39m AbuKLManager(benchmark, capital)\n\u001b[0;32m      7\u001b[0m \u001b[39m# 获取TSLA的交易数据\u001b[39;00m\n\u001b[1;32m----> 8\u001b[0m kl_pd \u001b[39m=\u001b[39m kl_pd_manager\u001b[39m.\u001b[39;49mget_pick_time_kl_pd(\u001b[39m'\u001b[39;49m\u001b[39musTSLA\u001b[39;49m\u001b[39m'\u001b[39;49m)\n\u001b[0;32m      9\u001b[0m abu_worker \u001b[39m=\u001b[39m AbuPickTimeWorker(capital, kl_pd, benchmark, buy_factors, \u001b[39mNone\u001b[39;00m)\n\u001b[0;32m     10\u001b[0m get_ipython()\u001b[39m.\u001b[39mrun_line_magic(\u001b[39m'\u001b[39m\u001b[39mtime\u001b[39m\u001b[39m'\u001b[39m, \u001b[39m'\u001b[39m\u001b[39mabu_worker.fit()\u001b[39m\u001b[39m'\u001b[39m)\n",
      "File \u001b[1;32me:\\project\\abu\\abupy\\TradeBu\\ABuKLManager.py:169\u001b[0m, in \u001b[0;36mAbuKLManager.get_pick_time_kl_pd\u001b[1;34m(self, target_symbol)\u001b[0m\n\u001b[0;32m    167\u001b[0m     \u001b[39mreturn\u001b[39;00m kl_pd\n\u001b[0;32m    168\u001b[0m \u001b[39m# 字典中每找到，进行fetch，获取后保存在择时字典中\u001b[39;00m\n\u001b[1;32m--> 169\u001b[0m kl_pd \u001b[39m=\u001b[39m \u001b[39mself\u001b[39;49m\u001b[39m.\u001b[39;49m_fetch_pick_time_kl_pd(target_symbol)\n\u001b[0;32m    170\u001b[0m \u001b[39mself\u001b[39m\u001b[39m.\u001b[39mpick_kl_pd_dict[\u001b[39m'\u001b[39m\u001b[39mpick_time\u001b[39m\u001b[39m'\u001b[39m][target_symbol] \u001b[39m=\u001b[39m kl_pd\n\u001b[0;32m    171\u001b[0m \u001b[39mreturn\u001b[39;00m kl_pd\n",
      "File \u001b[1;32me:\\project\\abu\\abupy\\TradeBu\\ABuKLManager.py:157\u001b[0m, in \u001b[0;36mAbuKLManager._fetch_pick_time_kl_pd\u001b[1;34m(self, target_symbol)\u001b[0m\n\u001b[0;32m    155\u001b[0m \u001b[39mdef\u001b[39;00m \u001b[39m_fetch_pick_time_kl_pd\u001b[39m(\u001b[39mself\u001b[39m, target_symbol):\n\u001b[0;32m    156\u001b[0m \u001b[39m    \u001b[39m\u001b[39m\"\"\"获取择时时段金融时间序列\"\"\"\u001b[39;00m\n\u001b[1;32m--> 157\u001b[0m     \u001b[39mreturn\u001b[39;00m ABuSymbolPd\u001b[39m.\u001b[39;49mmake_kl_df(target_symbol, data_mode\u001b[39m=\u001b[39;49mEMarketDataSplitMode\u001b[39m.\u001b[39;49mE_DATA_SPLIT_UNDO,\n\u001b[0;32m    158\u001b[0m                                   benchmark\u001b[39m=\u001b[39;49m\u001b[39mself\u001b[39;49m\u001b[39m.\u001b[39;49mbenchmark, n_folds\u001b[39m=\u001b[39;49m\u001b[39mself\u001b[39;49m\u001b[39m.\u001b[39;49mbenchmark\u001b[39m.\u001b[39;49mn_folds)\n",
      "File \u001b[1;32me:\\project\\abu\\abupy\\MarketBu\\ABuSymbolPd.py:308\u001b[0m, in \u001b[0;36mmake_kl_df\u001b[1;34m(symbol, data_mode, n_folds, start, end, benchmark, show_progress, parallel, parallel_save)\u001b[0m\n\u001b[0;32m    304\u001b[0m     \u001b[39mreturn\u001b[39;00m pd\u001b[39m.\u001b[39mPanel(panel)\n\u001b[0;32m    306\u001b[0m \u001b[39melif\u001b[39;00m \u001b[39misinstance\u001b[39m(symbol, Symbol) \u001b[39mor\u001b[39;00m \u001b[39misinstance\u001b[39m(symbol, six\u001b[39m.\u001b[39mstring_types):\n\u001b[0;32m    307\u001b[0m     \u001b[39m# 对单个symbol进行数据获取\u001b[39;00m\n\u001b[1;32m--> 308\u001b[0m     df, _ \u001b[39m=\u001b[39m _make_kl_df(symbol, data_mode\u001b[39m=\u001b[39;49mdata_mode,\n\u001b[0;32m    309\u001b[0m                         n_folds\u001b[39m=\u001b[39;49mn_folds, start\u001b[39m=\u001b[39;49mstart, end\u001b[39m=\u001b[39;49mend, benchmark\u001b[39m=\u001b[39;49mbenchmark, save\u001b[39m=\u001b[39;49m\u001b[39mTrue\u001b[39;49;00m)\n\u001b[0;32m    310\u001b[0m     \u001b[39mreturn\u001b[39;00m df\n\u001b[0;32m    311\u001b[0m \u001b[39melse\u001b[39;00m:\n",
      "File \u001b[1;32me:\\project\\abu\\abupy\\MarketBu\\ABuSymbolPd.py:131\u001b[0m, in \u001b[0;36m_make_kl_df\u001b[1;34m(symbol, data_mode, n_folds, start, end, benchmark, save)\u001b[0m\n\u001b[0;32m    128\u001b[0m \u001b[39mif\u001b[39;00m benchmark \u001b[39mis\u001b[39;00m \u001b[39mnot\u001b[39;00m \u001b[39mNone\u001b[39;00m \u001b[39mand\u001b[39;00m df \u001b[39mis\u001b[39;00m \u001b[39mnot\u001b[39;00m \u001b[39mNone\u001b[39;00m:\n\u001b[0;32m    129\u001b[0m     \u001b[39m# 如果有标尺，进行标尺切割，进行标尺切割后也可能变成none\u001b[39;00m\n\u001b[0;32m    130\u001b[0m     temp_symbol \u001b[39m=\u001b[39m save_kl_key[\u001b[39m0\u001b[39m]\n\u001b[1;32m--> 131\u001b[0m     df \u001b[39m=\u001b[39m _benchmark(df, benchmark, temp_symbol)\n\u001b[0;32m    133\u001b[0m \u001b[39mif\u001b[39;00m df \u001b[39mis\u001b[39;00m \u001b[39mnot\u001b[39;00m \u001b[39mNone\u001b[39;00m:\n\u001b[0;32m    134\u001b[0m     \u001b[39m# 规避重复交易日数据风险，subset只设置date做为滤除重复\u001b[39;00m\n\u001b[0;32m    135\u001b[0m     df\u001b[39m.\u001b[39mdrop_duplicates(subset\u001b[39m=\u001b[39m[\u001b[39m'\u001b[39m\u001b[39mdate\u001b[39m\u001b[39m'\u001b[39m], inplace\u001b[39m=\u001b[39m\u001b[39mTrue\u001b[39;00m)\n",
      "File \u001b[1;32me:\\project\\abu\\abupy\\MarketBu\\ABuSymbolPd.py:51\u001b[0m, in \u001b[0;36m_benchmark\u001b[1;34m(df, benchmark, symbol)\u001b[0m\n\u001b[0;32m     41\u001b[0m \u001b[39mdef\u001b[39;00m \u001b[39m_benchmark\u001b[39m(df, benchmark, symbol):\n\u001b[0;32m     42\u001b[0m \u001b[39m    \u001b[39m\u001b[39m\"\"\"\u001b[39;00m\n\u001b[0;32m     43\u001b[0m \u001b[39m    在内部使用kline_pd获取金融时间序列pd.DataFrame后，如果参数中\u001b[39;00m\n\u001b[0;32m     44\u001b[0m \u001b[39m    基准benchmark（pd.DataFrame对象）存在，使用基准benchmark的\u001b[39;00m\n\u001b[1;32m   (...)\u001b[0m\n\u001b[0;32m     49\u001b[0m \u001b[39m    :return: 使用基准的时间范围切割返回的金融时间序列\u001b[39;00m\n\u001b[0;32m     50\u001b[0m \u001b[39m    \"\"\"\u001b[39;00m\n\u001b[1;32m---> 51\u001b[0m     \u001b[39mif\u001b[39;00m \u001b[39mlen\u001b[39m(df\u001b[39m.\u001b[39;49mindex \u001b[39m&\u001b[39;49m benchmark\u001b[39m.\u001b[39;49mkl_pd\u001b[39m.\u001b[39;49mindex) \u001b[39m<\u001b[39m\u001b[39m=\u001b[39m \u001b[39m0\u001b[39m:\n\u001b[0;32m     52\u001b[0m         \u001b[39m# 如果基准benchmark时间范围和输入的df没有交集，直接返回None\u001b[39;00m\n\u001b[0;32m     53\u001b[0m         \u001b[39mreturn\u001b[39;00m \u001b[39mNone\u001b[39;00m\n\u001b[0;32m     55\u001b[0m     \u001b[39m# 两个金融时间序列通过loc寻找交集\u001b[39;00m\n",
      "File \u001b[1;32md:\\Program Files (x86)\\choco\\Python\\lib\\site-packages\\pandas\\core\\ops\\common.py:81\u001b[0m, in \u001b[0;36m_unpack_zerodim_and_defer.<locals>.new_method\u001b[1;34m(self, other)\u001b[0m\n\u001b[0;32m     77\u001b[0m             \u001b[39mreturn\u001b[39;00m \u001b[39mNotImplemented\u001b[39m\n\u001b[0;32m     79\u001b[0m other \u001b[39m=\u001b[39m item_from_zerodim(other)\n\u001b[1;32m---> 81\u001b[0m \u001b[39mreturn\u001b[39;00m method(\u001b[39mself\u001b[39;49m, other)\n",
      "File \u001b[1;32md:\\Program Files (x86)\\choco\\Python\\lib\\site-packages\\pandas\\core\\arraylike.py:70\u001b[0m, in \u001b[0;36mOpsMixin.__and__\u001b[1;34m(self, other)\u001b[0m\n\u001b[0;32m     68\u001b[0m \u001b[39m@unpack_zerodim_and_defer\u001b[39m(\u001b[39m\"\u001b[39m\u001b[39m__and__\u001b[39m\u001b[39m\"\u001b[39m)\n\u001b[0;32m     69\u001b[0m \u001b[39mdef\u001b[39;00m \u001b[39m__and__\u001b[39m(\u001b[39mself\u001b[39m, other):\n\u001b[1;32m---> 70\u001b[0m     \u001b[39mreturn\u001b[39;00m \u001b[39mself\u001b[39;49m\u001b[39m.\u001b[39;49m_logical_method(other, operator\u001b[39m.\u001b[39;49mand_)\n",
      "File \u001b[1;32md:\\Program Files (x86)\\choco\\Python\\lib\\site-packages\\pandas\\core\\indexes\\base.py:6794\u001b[0m, in \u001b[0;36mIndex._logical_method\u001b[1;34m(self, other, op)\u001b[0m\n\u001b[0;32m   6791\u001b[0m lvalues \u001b[39m=\u001b[39m \u001b[39mself\u001b[39m\u001b[39m.\u001b[39m_values\n\u001b[0;32m   6792\u001b[0m rvalues \u001b[39m=\u001b[39m extract_array(other, extract_numpy\u001b[39m=\u001b[39m\u001b[39mTrue\u001b[39;00m, extract_range\u001b[39m=\u001b[39m\u001b[39mTrue\u001b[39;00m)\n\u001b[1;32m-> 6794\u001b[0m res_values \u001b[39m=\u001b[39m ops\u001b[39m.\u001b[39;49mlogical_op(lvalues, rvalues, op)\n\u001b[0;32m   6795\u001b[0m \u001b[39mreturn\u001b[39;00m \u001b[39mself\u001b[39m\u001b[39m.\u001b[39m_construct_result(res_values, name\u001b[39m=\u001b[39mres_name)\n",
      "File \u001b[1;32md:\\Program Files (x86)\\choco\\Python\\lib\\site-packages\\pandas\\core\\ops\\array_ops.py:386\u001b[0m, in \u001b[0;36mlogical_op\u001b[1;34m(left, right, op)\u001b[0m\n\u001b[0;32m    382\u001b[0m rvalues \u001b[39m=\u001b[39m right\n\u001b[0;32m    384\u001b[0m \u001b[39mif\u001b[39;00m should_extension_dispatch(lvalues, rvalues):\n\u001b[0;32m    385\u001b[0m     \u001b[39m# Call the method on lvalues\u001b[39;00m\n\u001b[1;32m--> 386\u001b[0m     res_values \u001b[39m=\u001b[39m op(lvalues, rvalues)\n\u001b[0;32m    388\u001b[0m \u001b[39melse\u001b[39;00m:\n\u001b[0;32m    389\u001b[0m     \u001b[39mif\u001b[39;00m \u001b[39misinstance\u001b[39m(rvalues, np\u001b[39m.\u001b[39mndarray):\n",
      "\u001b[1;31mTypeError\u001b[0m: unsupported operand type(s) for &: 'DatetimeArray' and 'DatetimeArray'"
     ]
    }
   ],
   "source": [
    "from abupy import AbuPickTimeWorker \n",
    "from abupy import AbuCapital\n",
    "from abupy import AbuKLManager\n",
    "\n",
    "capital = AbuCapital(1000000, benchmark)\n",
    "kl_pd_manager = AbuKLManager(benchmark, capital)\n",
    "# 获取TSLA的交易数据\n",
    "kl_pd = kl_pd_manager.get_pick_time_kl_pd('usTSLA')\n",
    "abu_worker = AbuPickTimeWorker(capital, kl_pd, benchmark, buy_factors, None)\n",
    "%time abu_worker.fit()"
   ]
  },
  {
   "attachments": {},
   "cell_type": "markdown",
   "metadata": {},
   "source": []
  },
  {
   "cell_type": "code",
   "execution_count": null,
   "metadata": {},
   "outputs": [],
   "source": [
    "from abupy import ABuTradeProxy\n",
    "orders_pd, action_pd, _ = ABuTradeProxy.trade_summary(abu_worker.orders, kl_pd, draw=True)"
   ]
  },
  {
   "cell_type": "code",
   "execution_count": null,
   "metadata": {},
   "outputs": [],
   "source": [
    "from abupy import ABuTradeExecute\n",
    "ABuTradeExecute.apply_action_to_capital(capital, action_pd, kl_pd_manager)\n",
    "capital.capital_pd.capital_blance.plot()"
   ]
  },
  {
   "attachments": {},
   "cell_type": "markdown",
   "metadata": {},
   "source": [
    "### 8.1.2 卖出因子的实现"
   ]
  },
  {
   "cell_type": "code",
   "execution_count": null,
   "metadata": {
    "collapsed": true
   },
   "outputs": [],
   "source": [
    "from abupy import AbuFactorSellBreak\n",
    "# 使用120天向下突破为卖出信号\n",
    "sell_factor1 = {'xd': 120, 'class': AbuFactorSellBreak}"
   ]
  },
  {
   "cell_type": "code",
   "execution_count": null,
   "metadata": {},
   "outputs": [],
   "source": [
    "from abupy import ABuPickTimeExecute\n",
    "# 只使用120天向下突破为卖出因子\n",
    "sell_factors = [sell_factor1]\n",
    "capital = AbuCapital(1000000, benchmark)\n",
    "orders_pd, action_pd, _ = ABuPickTimeExecute.do_symbols_with_same_factors(\n",
    "                          ['usTSLA'], benchmark, buy_factors, sell_factors, capital, show=True)"
   ]
  },
  {
   "cell_type": "code",
   "execution_count": null,
   "metadata": {},
   "outputs": [],
   "source": [
    "from abupy import AbuFactorAtrNStop\n",
    "# 趋势跟踪策略止盈要大于止损设置值，这里0.5，3.0\n",
    "sell_factor2 = {'stop_loss_n':0.5, 'stop_win_n':3.0, 'class': AbuFactorAtrNStop}\n",
    "# 两个卖出因子策略并行同时生效\n",
    "sell_factors = [sell_factor1, sell_factor2]\n",
    "capital = AbuCapital(1000000, benchmark)\n",
    "orders_pd, action_pd, _ = ABuPickTimeExecute.do_symbols_with_same_factors(\n",
    "                          ['usTSLA'], benchmark, buy_factors, sell_factors, capital, show=True)"
   ]
  },
  {
   "cell_type": "code",
   "execution_count": null,
   "metadata": {},
   "outputs": [],
   "source": [
    "from abupy import AbuFactorPreAtrNStop\n",
    "# 暴跌止损卖出因子形成dict\n",
    "sell_factor3 =  {'class': AbuFactorPreAtrNStop, 'pre_atr_n':1.0}\n",
    "# 三个卖出因子同时生效，组成sell_factors\n",
    "sell_factors = [sell_factor1, sell_factor2, sell_factor3]\n",
    "capital = AbuCapital(1000000, benchmark)\n",
    "orders_pd, action_pd, _ = ABuPickTimeExecute.do_symbols_with_same_factors(\n",
    "                          ['usTSLA'], benchmark, buy_factors, sell_factors, capital, show=True)"
   ]
  },
  {
   "cell_type": "code",
   "execution_count": null,
   "metadata": {},
   "outputs": [],
   "source": [
    "from abupy import AbuFactorCloseAtrNStop\n",
    "# 保护止盈卖出因子组成dict\n",
    "sell_factor4 = {'class': AbuFactorCloseAtrNStop, 'close_atr_n':1.5}\n",
    "# 四个卖出因子同时并行生效\n",
    "sell_factors = [sell_factor1, sell_factor2, sell_factor3, sell_factor4]\n",
    "capital = AbuCapital(1000000, benchmark)\n",
    "orders_pd, action_pd, _ = ABuPickTimeExecute.do_symbols_with_same_factors(\n",
    "                          ['usTSLA'], benchmark, buy_factors, sell_factors, capital, show=True)"
   ]
  },
  {
   "attachments": {},
   "cell_type": "markdown",
   "metadata": {},
   "source": [
    "### 8.1.3 滑点买入卖出价格确定及策略实现"
   ]
  },
  {
   "cell_type": "code",
   "execution_count": null,
   "metadata": {
    "collapsed": true
   },
   "outputs": [],
   "source": [
    "from abupy import AbuSlippageBuyBase\n",
    "\n",
    "# 修改g_open_down_rate的值为0.02\n",
    "g_open_down_rate = 0.02\n",
    "\n",
    "class AbuSlippageBuyMean2(AbuSlippageBuyBase):\n",
    "    def fit_price(self):\n",
    "        if (self.kl_pd_buy.open / self.kl_pd_buy.pre_close) < (\n",
    "            1 - g_open_down_rate):\n",
    "            # 开盘下跌K_OPEN_DOWN_RATE以上，单子失效\n",
    "            print(self.factor_name + 'open down threshold')\n",
    "            return np.inf\n",
    "        # 买入价格为当天均价\n",
    "        self.buy_price = np.mean(\n",
    "            [self.kl_pd_buy['high'], self.kl_pd_buy['low']])\n",
    "        return self.buy_price"
   ]
  },
  {
   "cell_type": "code",
   "execution_count": null,
   "metadata": {},
   "outputs": [],
   "source": [
    "# 只针对60使用AbuSlippageBuyMean2\n",
    "buy_factors2 = [{'slippage': AbuSlippageBuyMean2, 'xd': 60,\n",
    "                 'class': AbuFactorBuyBreak},\n",
    "                {'xd': 42, 'class': AbuFactorBuyBreak}]\n",
    "\n",
    "sell_factors = [sell_factor1, sell_factor2, sell_factor3,\n",
    "                sell_factor4]\n",
    "capital = AbuCapital(1000000, benchmark)\n",
    "orders_pd, action_pd, _ = \\\n",
    "    ABuPickTimeExecute.do_symbols_with_same_factors(['usTSLA'],\n",
    "                                                    benchmark,\n",
    "                                                    buy_factors2,\n",
    "                                                    sell_factors,\n",
    "                                                    capital,\n",
    "                                                    show=True)"
   ]
  },
  {
   "attachments": {},
   "cell_type": "markdown",
   "metadata": {},
   "source": [
    "### 8.1.4 对多支股票进行择时"
   ]
  },
  {
   "cell_type": "code",
   "execution_count": null,
   "metadata": {},
   "outputs": [],
   "source": [
    "# 我们假定choice_symbols是我们选股模块的结果，\n",
    "choice_symbols = ['usTSLA', 'usNOAH', 'usSFUN', 'usBIDU', 'usAAPL', 'usGOOG', 'usWUBA', 'usVIPS']\n",
    "capital = AbuCapital(1000000, benchmark)\n",
    "orders_pd, action_pd, all_fit_symbols_cnt = ABuPickTimeExecute.do_symbols_with_same_factors(choice_symbols, benchmark, buy_factors, sell_factors, capital, show=False)"
   ]
  },
  {
   "cell_type": "code",
   "execution_count": null,
   "metadata": {},
   "outputs": [],
   "source": [
    "orders_pd[:10].filter(['symbol', 'buy_price', 'buy_cnt', 'buy_factor', 'buy_pos', \n",
    "                       'sell_date', 'sell_type_extra', 'sell_type', 'profit'])"
   ]
  },
  {
   "cell_type": "code",
   "execution_count": null,
   "metadata": {},
   "outputs": [],
   "source": [
    "action_pd[:10]"
   ]
  },
  {
   "cell_type": "code",
   "execution_count": null,
   "metadata": {},
   "outputs": [],
   "source": [
    "from abupy import AbuMetricsBase \n",
    "metrics = AbuMetricsBase(orders_pd, action_pd, capital, benchmark)\n",
    "metrics.fit_metrics()\n",
    "metrics.plot_returns_cmp(only_show_returns=True)"
   ]
  },
  {
   "attachments": {},
   "cell_type": "markdown",
   "metadata": {},
   "source": [
    "## 8.1.5 自定义仓位管理策略的实现"
   ]
  },
  {
   "cell_type": "code",
   "execution_count": null,
   "metadata": {},
   "outputs": [],
   "source": [
    "metrics.gains_mean, -metrics.losses_mean"
   ]
  },
  {
   "cell_type": "code",
   "execution_count": null,
   "metadata": {},
   "outputs": [],
   "source": [
    "from abupy import AbuKellyPosition\n",
    "# 42d使用AbuKellyPosition，60d仍然使用默认仓位管理类\n",
    "buy_factors2 = [{'xd': 60, 'class': AbuFactorBuyBreak},\n",
    "                {'xd': 42, 'position': {'class': AbuKellyPosition, 'win_rate': metrics.win_rate, \n",
    "                                        'gains_mean': metrics.gains_mean, 'losses_mean': -metrics.losses_mean},\n",
    "                 'class': AbuFactorBuyBreak}]\n",
    "capital = AbuCapital(1000000, benchmark)\n",
    "orders_pd, action_pd, all_fit_symbols_cnt = ABuPickTimeExecute.do_symbols_with_same_factors(choice_symbols, benchmark, buy_factors2, sell_factors, capital, show=False)"
   ]
  },
  {
   "cell_type": "code",
   "execution_count": null,
   "metadata": {},
   "outputs": [],
   "source": [
    "orders_pd[:10].filter(['symbol', 'buy_cnt', 'buy_factor', 'buy_pos'])"
   ]
  },
  {
   "attachments": {},
   "cell_type": "markdown",
   "metadata": {},
   "source": [
    "## 8.1.6 多支股票使用不同的因子进行择时"
   ]
  },
  {
   "cell_type": "code",
   "execution_count": null,
   "metadata": {},
   "outputs": [],
   "source": [
    "# 选定noah和sfun\n",
    "target_symbols = ['usSFUN', 'usNOAH']\n",
    "# 针对sfun只使用42d向上突破作为买入因子\n",
    "buy_factors_sfun = [{'xd': 42, 'class': AbuFactorBuyBreak}]\n",
    "# 针对sfun只使用60d向下突破作为卖出因子\n",
    "sell_factors_sfun = [{'xd': 60, 'class': AbuFactorSellBreak}]\n",
    "\n",
    "# 针对noah只使用21d向上突破作为买入因子\n",
    "buy_factors_noah = [{'xd': 21, 'class': AbuFactorBuyBreak}]\n",
    "# 针对noah只使用42d向下突破作为卖出因子\n",
    "sell_factors_noah = [{'xd': 42, 'class': AbuFactorSellBreak}]\n",
    "\n",
    "factor_dict = dict()\n",
    "# 构建SFUN独立的buy_factors，sell_factors的dict\n",
    "factor_dict['usSFUN'] = {'buy_factors':buy_factors_sfun, 'sell_factors':sell_factors_sfun}\n",
    "# 构建NOAH独立的buy_factors，sell_factors的dict\n",
    "factor_dict['usNOAH'] = {'buy_factors':buy_factors_noah, 'sell_factors':sell_factors_noah}\n",
    "# 初始化资金\n",
    "capital = AbuCapital(1000000, benchmark)\n",
    "# 使用do_symbols_with_diff_factors执行\n",
    "orders_pd, action_pd, all_fit_symbols = ABuPickTimeExecute.do_symbols_with_diff_factors(\n",
    "                                        target_symbols, benchmark, factor_dict, capital)"
   ]
  },
  {
   "cell_type": "code",
   "execution_count": null,
   "metadata": {},
   "outputs": [],
   "source": [
    "pd.crosstab(orders_pd.buy_factor, orders_pd.symbol)"
   ]
  },
  {
   "attachments": {},
   "cell_type": "markdown",
   "metadata": {},
   "source": [
    "## 8.1.7 使用并行来提升择时运行效率"
   ]
  },
  {
   "cell_type": "code",
   "execution_count": null,
   "metadata": {},
   "outputs": [],
   "source": [
    "# 要关闭沙盒数据环境，因为沙盒里就那几个股票的历史数据, 下面要随机做300个股票\n",
    "abupy.env.disable_example_env_ipython()\n",
    "\n",
    "# 关闭沙盒后，首先基准要从非沙盒环境换取，否则数据对不齐，无法正常运行\n",
    "benchmark = AbuBenchmark()\n",
    "capital = AbuCapital(1000000, benchmark)"
   ]
  },
  {
   "cell_type": "code",
   "execution_count": null,
   "metadata": {
    "collapsed": true
   },
   "outputs": [],
   "source": [
    "from abupy import ABuMarket\n",
    "# 当传入choice_symbols为None时代表对整个市场的所有股票进行回测\n",
    "choice_symbols = None\n",
    "# 顺序获取市场后50支股票\n",
    "choice_symbols = ABuMarket.all_symbol()[-50:]\n",
    "# 随机获取50支股票\n",
    "choice_symbols = ABuMarket.choice_symbols(50)"
   ]
  },
  {
   "cell_type": "code",
   "execution_count": null,
   "metadata": {},
   "outputs": [],
   "source": [
    "from abupy import AbuPickTimeMaster\n",
    "capital = AbuCapital(1000000, benchmark)\n",
    "orders_pd, action_pd, _ = AbuPickTimeMaster.do_symbols_with_same_factors_process(\n",
    "                          choice_symbols, benchmark, buy_factors, sell_factors, \n",
    "                          capital)"
   ]
  },
  {
   "cell_type": "code",
   "execution_count": null,
   "metadata": {},
   "outputs": [],
   "source": [
    "metrics = AbuMetricsBase(orders_pd, action_pd, capital, benchmark)\n",
    "metrics.fit_metrics()\n",
    "metrics.plot_returns_cmp(only_show_returns=True)"
   ]
  },
  {
   "attachments": {},
   "cell_type": "markdown",
   "metadata": {
    "collapsed": true
   },
   "source": [
    "## 8.2 abu量化系统选股\n",
    "\n",
    "### 8.2.1 选股因子的实现"
   ]
  },
  {
   "cell_type": "code",
   "execution_count": null,
   "metadata": {},
   "outputs": [],
   "source": [
    "# 继续使用沙盒数据环境\n",
    "abupy.env.enable_example_env_ipython()\n",
    "\n",
    "# 开启沙盒后，基准也要从沙盒环境取，否则数据对不齐，无法正常运行\n",
    "benchmark = AbuBenchmark()\n",
    "capital = AbuCapital(1000000, benchmark)\n",
    "kl_pd_manager = AbuKLManager(benchmark, capital)"
   ]
  },
  {
   "cell_type": "code",
   "execution_count": null,
   "metadata": {},
   "outputs": [],
   "source": [
    "from abupy import AbuPickRegressAngMinMax\n",
    "from abupy import AbuPickStockWorker\n",
    "# 选股条件threshold_ang_min=0.0, 即要求股票走势为向上上升趋势\n",
    "stock_pickers = [{'class': AbuPickRegressAngMinMax, \n",
    "                'threshold_ang_min':0.0, 'reversed':False}]\n",
    "\n",
    "# 从这几个股票里进行选股，只是为了演示方便，一般的选股都会是数量比较多的情况比如全市场股票\n",
    "choice_symbols = ['usNOAH', 'usSFUN', 'usBIDU', 'usAAPL', 'usGOOG', 'usTSLA', 'usWUBA', 'usVIPS']\n",
    "\n",
    "capital = AbuCapital(1000000, benchmark)\n",
    "kl_pd_manager = AbuKLManager(benchmark, capital)\n",
    "stock_pick = AbuPickStockWorker(capital, benchmark, kl_pd_manager, choice_symbols=choice_symbols, stock_pickers=stock_pickers)\n",
    "stock_pick.fit()\n",
    "stock_pick.choice_symbols"
   ]
  },
  {
   "attachments": {},
   "cell_type": "markdown",
   "metadata": {},
   "source": [
    "注意选股结果会与书中的结果不一致，因为要控制沙盒数据体积小于50mb， 所以沙盒数据有些symbol只有两年多一点，与原始环境不一致。"
   ]
  },
  {
   "cell_type": "code",
   "execution_count": null,
   "metadata": {},
   "outputs": [],
   "source": [
    "from abupy import ABuRegUtil\n",
    "# 从kl_pd_manager缓存中获取选股走势数据，注意get_pick_stock_kl_pd为选股数据，get_pick_time_kl_pd为择时\n",
    "kl_pd_noah = kl_pd_manager.get_pick_stock_kl_pd('usNOAH')\n",
    "# 绘制并计算角度\n",
    "deg = ABuRegUtil.calc_regress_deg(kl_pd_noah.close)\n",
    "print('noah 选股周期内角度={}'.format(round(deg, 3)))"
   ]
  },
  {
   "attachments": {},
   "cell_type": "markdown",
   "metadata": {},
   "source": [
    "## ABuPickStockExecute"
   ]
  },
  {
   "cell_type": "code",
   "execution_count": null,
   "metadata": {},
   "outputs": [],
   "source": [
    "from abupy import ABuPickStockExecute\n",
    "stock_pickers = [{'class': AbuPickRegressAngMinMax, \n",
    "                 'threshold_ang_min':0.0, 'threshold_ang_max':10.0, 'reversed':False}]\n",
    "\n",
    "ABuPickStockExecute.do_pick_stock_work(choice_symbols, benchmark, capital, stock_pickers)"
   ]
  },
  {
   "cell_type": "code",
   "execution_count": null,
   "metadata": {},
   "outputs": [],
   "source": [
    "kl_pd_sfun = kl_pd_manager.get_pick_stock_kl_pd('usSFUN')\n",
    "print('sfun 选股周期内角度={}'.format(round(ABuRegUtil.calc_regress_deg(kl_pd_sfun.close), 3)))"
   ]
  },
  {
   "attachments": {},
   "cell_type": "markdown",
   "metadata": {},
   "source": [
    "## reversed"
   ]
  },
  {
   "cell_type": "code",
   "execution_count": null,
   "metadata": {},
   "outputs": [],
   "source": [
    "# 和上面的代码唯一的区别就是reversed=True\n",
    "stock_pickers = [{'class': AbuPickRegressAngMinMax, \n",
    "                 'threshold_ang_min':0.0, 'threshold_ang_max':10.0, 'reversed':True}]\n",
    "ABuPickStockExecute.do_pick_stock_work(choice_symbols, benchmark, capital, stock_pickers)"
   ]
  },
  {
   "attachments": {},
   "cell_type": "markdown",
   "metadata": {},
   "source": [
    "### 8.2.2 多个选股因子并行执行"
   ]
  },
  {
   "cell_type": "code",
   "execution_count": null,
   "metadata": {},
   "outputs": [],
   "source": [
    "from abupy import AbuPickStockPriceMinMax\n",
    "\n",
    "stock_pickers = [{'class': AbuPickRegressAngMinMax, \n",
    "                 'threshold_ang_min':0.0, 'reversed':False}, \n",
    "                 {'class': AbuPickStockPriceMinMax, 'threshold_price_min':50.0,\n",
    "                 'reversed':False}]\n",
    "ABuPickStockExecute.do_pick_stock_work(choice_symbols, benchmark, capital, stock_pickers)"
   ]
  },
  {
   "attachments": {},
   "cell_type": "markdown",
   "metadata": {},
   "source": [
    "### 8.2.3 使用并行来提升回测运行效率"
   ]
  },
  {
   "cell_type": "code",
   "execution_count": null,
   "metadata": {},
   "outputs": [],
   "source": [
    "# 继续关闭沙盒环境，因为下面要choice_symbols\n",
    "abupy.env.disable_example_env_ipython()\n",
    "\n",
    "# 关闭沙盒后，首先基准要从非沙盒环境换取，否则数据对不齐，无法正常运行\n",
    "benchmark = AbuBenchmark()\n",
    "capital = AbuCapital(1000000, benchmark)\n",
    "kl_pd_manager = AbuKLManager(benchmark, capital)\n",
    "\n",
    "from abupy import ABuMarket, AbuPickStockMaster\n",
    "# 首先随抽取50支股票\n",
    "choice_symbols = ABuMarket.choice_symbols(50)"
   ]
  },
  {
   "cell_type": "code",
   "execution_count": null,
   "metadata": {},
   "outputs": [],
   "source": [
    "# 股价在15-50之间\n",
    "stock_pickers = [{'class': AbuPickStockPriceMinMax, 'threshold_price_min':15.0,\n",
    "                'threshold_price_max':50.0, 'reversed':False}]\n",
    "%time cs = AbuPickStockMaster.do_pick_stock_with_process(capital, benchmark, stock_pickers, choice_symbols)"
   ]
  },
  {
   "cell_type": "code",
   "execution_count": null,
   "metadata": {},
   "outputs": [],
   "source": [
    "cs"
   ]
  },
  {
   "cell_type": "code",
   "execution_count": null,
   "metadata": {
    "collapsed": true
   },
   "outputs": [],
   "source": []
  }
 ],
 "metadata": {
  "anaconda-cloud": {},
  "kernelspec": {
   "display_name": "Python 3",
   "language": "python",
   "name": "python3"
  },
  "language_info": {
   "codemirror_mode": {
    "name": "ipython",
    "version": 3
   },
   "file_extension": ".py",
   "mimetype": "text/x-python",
   "name": "python",
   "nbconvert_exporter": "python",
   "pygments_lexer": "ipython3",
   "version": "3.11.3"
  }
 },
 "nbformat": 4,
 "nbformat_minor": 1
}
