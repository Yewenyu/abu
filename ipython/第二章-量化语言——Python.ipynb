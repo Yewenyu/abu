{
 "cells": [
  {
   "cell_type": "code",
   "execution_count": 1,
   "metadata": {},
   "outputs": [
    {
     "name": "stderr",
     "output_type": "stream",
     "text": [
      "enable example env will only read RomDataBu/csv\n"
     ]
    }
   ],
   "source": [
    "from __future__ import print_function\n",
    "# 使用本地的abu\n",
    "import os\n",
    "import sys\n",
    "# 使用insert 0即只使用github，避免交叉使用了pip安装的abupy，导致的版本不一致问题\n",
    "sys.path.insert(0, os.path.abspath('../'))\n",
    "\n",
    "import abupy\n",
    "from abupy import six, xrange, range, reduce, map, filter, partial\n",
    "# 使用沙盒数据，目的是和书中一样的数据环境\n",
    "abupy.env.enable_example_env_ipython()"
   ]
  },
  {
   "cell_type": "code",
   "execution_count": 2,
   "metadata": {},
   "outputs": [
    {
     "name": "stdout",
     "output_type": "stream",
     "text": [
      "3.11.3 (tags/v3.11.3:f3909b8, Apr  4 2023, 23:49:59) [MSC v.1934 64 bit (AMD64)]\n"
     ]
    }
   ],
   "source": [
    "print(sys.version)"
   ]
  },
  {
   "attachments": {},
   "cell_type": "markdown",
   "metadata": {},
   "source": [
    "# 第2章 量化语言-Python\n",
    "\n",
    "[abu量化系统github地址](https://github.com/bbfamily/abu) (您的star是我的动力！)\n",
    "\n",
    "[abu量化文档教程ipython notebook](https://github.com/bbfamily/abu/tree/master/abupy_lecture)"
   ]
  },
  {
   "cell_type": "code",
   "execution_count": 3,
   "metadata": {
    "collapsed": true
   },
   "outputs": [],
   "source": [
    "price_str = '30.14, 29.58, 26.36, 32.56, 32.82'"
   ]
  },
  {
   "cell_type": "code",
   "execution_count": 4,
   "metadata": {},
   "outputs": [
    {
     "data": {
      "text/plain": [
       "str"
      ]
     },
     "execution_count": 4,
     "metadata": {},
     "output_type": "execute_result"
    }
   ],
   "source": [
    "type(price_str)"
   ]
  },
  {
   "cell_type": "code",
   "execution_count": 5,
   "metadata": {},
   "outputs": [
    {
     "name": "stdout",
     "output_type": "stream",
     "text": [
      "raise, try except\n"
     ]
    }
   ],
   "source": [
    "if not isinstance(price_str, str):\n",
    "    # not代表逻辑‘非’， 如果不是字符串，转换为字符串\n",
    "    price_str = str(price_str)\n",
    "if isinstance(price_str, int) and price_str > 0:\n",
    "    # and 代表逻辑‘与’，如果是int类型且是正数\n",
    "    price_str += 1\n",
    "elif isinstance(price_str, float) or float(price_str[:4]) < 0:\n",
    "    # or 代表逻辑‘或’，如果是float或者小于0\n",
    "    price_str += 1.0\n",
    "else:\n",
    "    try:\n",
    "        raise TypeError('price_str is str type!')\n",
    "    except TypeError:\n",
    "        print('raise, try except')"
   ]
  },
  {
   "attachments": {},
   "cell_type": "markdown",
   "metadata": {},
   "source": [
    "### 2.1.2 字符串和容器"
   ]
  },
  {
   "cell_type": "code",
   "execution_count": 6,
   "metadata": {},
   "outputs": [
    {
     "name": "stdout",
     "output_type": "stream",
     "text": [
      "旧的price_str id= 1368879524592\n",
      "新的price_str id= 1368879567840\n"
     ]
    },
    {
     "data": {
      "text/plain": [
       "'30.14,29.58,26.36,32.56,32.82'"
      ]
     },
     "execution_count": 6,
     "metadata": {},
     "output_type": "execute_result"
    }
   ],
   "source": [
    "print('旧的price_str id= {}'.format(id(price_str)))\n",
    "price_str = price_str.replace(' ', '')\n",
    "print('新的price_str id= {}'.format(id(price_str)))\n",
    "price_str"
   ]
  },
  {
   "cell_type": "code",
   "execution_count": 7,
   "metadata": {},
   "outputs": [
    {
     "name": "stdout",
     "output_type": "stream",
     "text": [
      "['30.14', '29.58', '26.36', '32.56', '32.82']\n",
      "['30.14', '29.58', '26.36', '32.56', '32.82', '32.82']\n"
     ]
    }
   ],
   "source": [
    "# split以逗号分割字符串，返回数组price_array\n",
    "price_array = price_str.split(',')\n",
    "print(price_array)\n",
    "# price_array尾部append一个重复的32.82\n",
    "price_array.append('32.82')\n",
    "print(price_array)"
   ]
  },
  {
   "cell_type": "code",
   "execution_count": 8,
   "metadata": {},
   "outputs": [
    {
     "data": {
      "text/plain": [
       "{'26.36', '29.58', '30.14', '32.56', '32.82'}"
      ]
     },
     "execution_count": 8,
     "metadata": {},
     "output_type": "execute_result"
    }
   ],
   "source": [
    "set(price_array)"
   ]
  },
  {
   "cell_type": "code",
   "execution_count": 9,
   "metadata": {},
   "outputs": [
    {
     "data": {
      "text/plain": [
       "['30.14', '29.58', '26.36', '32.56', '32.82']"
      ]
     },
     "execution_count": 9,
     "metadata": {},
     "output_type": "execute_result"
    }
   ],
   "source": [
    "price_array.remove('32.82')\n",
    "price_array"
   ]
  },
  {
   "cell_type": "code",
   "execution_count": 10,
   "metadata": {},
   "outputs": [
    {
     "data": {
      "text/plain": [
       "['20170118', '20170119', '20170120', '20170121', '20170122']"
      ]
     },
     "execution_count": 10,
     "metadata": {},
     "output_type": "execute_result"
    }
   ],
   "source": [
    "date_array = []\n",
    "date_base = 20170118\n",
    "# 这里用for只是为了计数，无用的变量python建议使用'_'声明\n",
    "for _ in xrange(0, len(price_array)):\n",
    "    # 本节只是简单示例，不考虑日期的进位\n",
    "    date_array.append(str(date_base))\n",
    "    date_base += 1\n",
    "date_array"
   ]
  },
  {
   "cell_type": "code",
   "execution_count": 11,
   "metadata": {},
   "outputs": [
    {
     "data": {
      "text/plain": [
       "['20170118', '20170119', '20170120', '20170121']"
      ]
     },
     "execution_count": 11,
     "metadata": {},
     "output_type": "execute_result"
    }
   ],
   "source": [
    "date_array = []\n",
    "date_base = 20170118\n",
    "price_cnt = len(price_array) - 1\n",
    "while price_cnt > 0:\n",
    "    date_array.append(str(date_base))\n",
    "    date_base += 1\n",
    "    price_cnt -= 1\n",
    "date_array"
   ]
  },
  {
   "cell_type": "code",
   "execution_count": 12,
   "metadata": {},
   "outputs": [
    {
     "data": {
      "text/plain": [
       "['20170118', '20170119', '20170120', '20170121', '20170122']"
      ]
     },
     "execution_count": 12,
     "metadata": {},
     "output_type": "execute_result"
    }
   ],
   "source": [
    "date_base = 20170118\n",
    "date_array = [str(date_base + ind) for ind, _ in enumerate(price_array)] \n",
    "date_array"
   ]
  },
  {
   "cell_type": "code",
   "execution_count": 13,
   "metadata": {},
   "outputs": [
    {
     "name": "stdout",
     "output_type": "stream",
     "text": [
      "20170119日价格：29.58\n"
     ]
    },
    {
     "data": {
      "text/plain": [
       "[('20170118', '30.14'),\n",
       " ('20170119', '29.58'),\n",
       " ('20170120', '26.36'),\n",
       " ('20170121', '32.56'),\n",
       " ('20170122', '32.82')]"
      ]
     },
     "execution_count": 13,
     "metadata": {},
     "output_type": "execute_result"
    }
   ],
   "source": [
    "stock_tuple_list = [(date, price) for date, price in zip(date_array, price_array)]\n",
    "# tuple访问使用索引\n",
    "print('20170119日价格：{}'.format(stock_tuple_list[1][1]))\n",
    "stock_tuple_list"
   ]
  },
  {
   "cell_type": "code",
   "execution_count": 14,
   "metadata": {},
   "outputs": [
    {
     "name": "stdout",
     "output_type": "stream",
     "text": [
      "20170119日价格：29.58\n"
     ]
    },
    {
     "data": {
      "text/plain": [
       "[stock(date='20170118', price='30.14'),\n",
       " stock(date='20170119', price='29.58'),\n",
       " stock(date='20170120', price='26.36'),\n",
       " stock(date='20170121', price='32.56'),\n",
       " stock(date='20170122', price='32.82')]"
      ]
     },
     "execution_count": 14,
     "metadata": {},
     "output_type": "execute_result"
    }
   ],
   "source": [
    "from collections import namedtuple\n",
    "\n",
    "stock_namedtuple = namedtuple('stock', ('date', 'price'))\n",
    "stock_namedtuple_list = [stock_namedtuple(date, price) for date, price in zip(date_array, price_array)]\n",
    "# namedtuple访问使用price\n",
    "print('20170119日价格：{}'.format(stock_namedtuple_list[1].price))\n",
    "stock_namedtuple_list"
   ]
  },
  {
   "cell_type": "code",
   "execution_count": 15,
   "metadata": {},
   "outputs": [
    {
     "name": "stdout",
     "output_type": "stream",
     "text": [
      "20170119日价格：29.58\n"
     ]
    },
    {
     "data": {
      "text/plain": [
       "{'20170118': '30.14',\n",
       " '20170119': '29.58',\n",
       " '20170120': '26.36',\n",
       " '20170121': '32.56',\n",
       " '20170122': '32.82'}"
      ]
     },
     "execution_count": 15,
     "metadata": {},
     "output_type": "execute_result"
    }
   ],
   "source": [
    "# 字典推导式：{key: value for in}\n",
    "stock_dict = {date:price for date, price in zip(date_array, price_array)}\n",
    "print('20170119日价格：{}'.format(stock_dict['20170119']))\n",
    "stock_dict"
   ]
  },
  {
   "cell_type": "code",
   "execution_count": 16,
   "metadata": {},
   "outputs": [
    {
     "data": {
      "text/plain": [
       "(dict_keys(['20170118', '20170119', '20170120', '20170121', '20170122']),\n",
       " dict_values(['30.14', '29.58', '26.36', '32.56', '32.82']))"
      ]
     },
     "execution_count": 16,
     "metadata": {},
     "output_type": "execute_result"
    }
   ],
   "source": [
    "stock_dict.keys(), stock_dict.values()"
   ]
  },
  {
   "cell_type": "code",
   "execution_count": 17,
   "metadata": {},
   "outputs": [
    {
     "data": {
      "text/plain": [
       "odict_keys(['20170118', '20170119', '20170120', '20170121', '20170122'])"
      ]
     },
     "execution_count": 17,
     "metadata": {},
     "output_type": "execute_result"
    }
   ],
   "source": [
    "from collections import OrderedDict\n",
    "stock_dict = OrderedDict((date, price) for date, price in zip(date_array, price_array))\n",
    "stock_dict.keys()"
   ]
  },
  {
   "attachments": {},
   "cell_type": "markdown",
   "metadata": {},
   "source": [
    "如上所示使用OrderedDict构造的dict返回的keys是按照插入顺序返回的"
   ]
  },
  {
   "attachments": {},
   "cell_type": "markdown",
   "metadata": {},
   "source": [
    "## 2.2 函数"
   ]
  },
  {
   "attachments": {},
   "cell_type": "markdown",
   "metadata": {},
   "source": [
    "### 2.2.1 函数的使用和定义"
   ]
  },
  {
   "cell_type": "code",
   "execution_count": 18,
   "metadata": {},
   "outputs": [
    {
     "data": {
      "text/plain": [
       "'20170118'"
      ]
     },
     "execution_count": 18,
     "metadata": {},
     "output_type": "execute_result"
    }
   ],
   "source": [
    "min(stock_dict)"
   ]
  },
  {
   "cell_type": "code",
   "execution_count": 19,
   "metadata": {},
   "outputs": [
    {
     "data": {
      "text/plain": [
       "('26.36', '20170120')"
      ]
     },
     "execution_count": 19,
     "metadata": {},
     "output_type": "execute_result"
    }
   ],
   "source": [
    "min(zip(stock_dict.values(), stock_dict.keys()))"
   ]
  },
  {
   "cell_type": "code",
   "execution_count": 20,
   "metadata": {},
   "outputs": [
    {
     "name": "stdout",
     "output_type": "stream",
     "text": [
      "('32.56', '20170121')\n"
     ]
    }
   ],
   "source": [
    "def find_second_max(dict_array):\n",
    "    # 对传入的dict sorted排序\n",
    "    stock_prices_sorted = sorted(zip(dict_array.values(), dict_array.keys()))\n",
    "    # 第二大的也就是倒数第二个\n",
    "    return stock_prices_sorted[-2]\n",
    "\n",
    "# 系统函数callable验证是否为一个可call的函数\n",
    "if callable(find_second_max):\n",
    "    print(find_second_max(stock_dict))"
   ]
  },
  {
   "attachments": {},
   "cell_type": "markdown",
   "metadata": {},
   "source": [
    "### 2.2.2 lambda函数"
   ]
  },
  {
   "cell_type": "code",
   "execution_count": 21,
   "metadata": {},
   "outputs": [
    {
     "data": {
      "text/plain": [
       "('32.56', '20170121')"
      ]
     },
     "execution_count": 21,
     "metadata": {},
     "output_type": "execute_result"
    }
   ],
   "source": [
    "find_second_max_lambda = lambda dict_array: sorted(zip(dict_array.values(), dict_array.keys()))[-2]\n",
    "find_second_max_lambda(stock_dict)"
   ]
  },
  {
   "cell_type": "code",
   "execution_count": 22,
   "metadata": {},
   "outputs": [
    {
     "data": {
      "text/plain": [
       "(('26.36', '20170120'), ('32.82', '20170122'))"
      ]
     },
     "execution_count": 22,
     "metadata": {},
     "output_type": "execute_result"
    }
   ],
   "source": [
    "def find_max_and_min(dict_array):\n",
    "    # 对传入的dict sorted排序\n",
    "    stock_prices_sorted = sorted(zip(dict_array.values(), dict_array.keys()))\n",
    "    return stock_prices_sorted[0], stock_prices_sorted[-1]\n",
    "\n",
    "find_max_and_min(stock_dict)"
   ]
  },
  {
   "attachments": {},
   "cell_type": "markdown",
   "metadata": {},
   "source": [
    "### 2.2.3 高阶函数"
   ]
  },
  {
   "cell_type": "code",
   "execution_count": 23,
   "metadata": {},
   "outputs": [
    {
     "data": {
      "text/plain": [
       "[(30.14, 29.58), (29.58, 26.36), (26.36, 32.56), (32.56, 32.82)]"
      ]
     },
     "execution_count": 23,
     "metadata": {},
     "output_type": "execute_result"
    }
   ],
   "source": [
    "# 将字符串的的价格通过列表推导式显示转换为float类型\n",
    "# 由于stock_dict是OrderedDict所以才可以直接\n",
    "# 使用stock_dict.values()获取有序日期的收盘价格\n",
    "price_float_array = [float(price_str) for price_str in stock_dict.values()]\n",
    "# 通过将时间平移形成两个错开的收盘价序列，通过zip打包成为一个新的序列，\n",
    "# 通过[:-1]:从第0个到倒数第二个，[1:]：从第一个到最后一个 错开形成相邻\n",
    "# 组成的序列每个元素为相邻的两个收盘价格\n",
    "pp_array = [(price1, price2) for price1, price2 in zip(price_float_array[:-1], price_float_array[1:])]\n",
    "pp_array"
   ]
  },
  {
   "cell_type": "code",
   "execution_count": 24,
   "metadata": {},
   "outputs": [
    {
     "data": {
      "text/plain": [
       "[0, -0.019, -0.109, 0.235, 0.008]"
      ]
     },
     "execution_count": 24,
     "metadata": {},
     "output_type": "execute_result"
    }
   ],
   "source": [
    "# list(map) 配合 six.moves.map for python3\n",
    "change_array = list(map(lambda pp: reduce(lambda a, b: round((b - a) / a, 3), pp), pp_array))\n",
    "# list insert插入数据，将第一天的涨跌幅设置为0\n",
    "change_array.insert(0, 0)\n",
    "change_array"
   ]
  },
  {
   "cell_type": "code",
   "execution_count": 25,
   "metadata": {},
   "outputs": [
    {
     "data": {
      "text/plain": [
       "OrderedDict([('20170118', stock(date='20170118', price='30.14', change=0)),\n",
       "             ('20170119',\n",
       "              stock(date='20170119', price='29.58', change=-0.019)),\n",
       "             ('20170120',\n",
       "              stock(date='20170120', price='26.36', change=-0.109)),\n",
       "             ('20170121', stock(date='20170121', price='32.56', change=0.235)),\n",
       "             ('20170122',\n",
       "              stock(date='20170122', price='32.82', change=0.008))])"
      ]
     },
     "execution_count": 25,
     "metadata": {},
     "output_type": "execute_result"
    }
   ],
   "source": [
    "# 使用namedtuple重新构建数据结构\n",
    "stock_namedtuple = namedtuple('stock', ('date', 'price', 'change'))\n",
    "# 通过zip分别从date_array，price_array，change_array拿数据组成\n",
    "# stock_namedtuple然后以date做为key组成OrderedDict\n",
    "stock_dict = OrderedDict((date, stock_namedtuple(date, price, change)) for date, price, change in zip(date_array, price_array, change_array))\n",
    "stock_dict"
   ]
  },
  {
   "cell_type": "code",
   "execution_count": 26,
   "metadata": {},
   "outputs": [
    {
     "data": {
      "text/plain": [
       "[stock(date='20170121', price='32.56', change=0.235),\n",
       " stock(date='20170122', price='32.82', change=0.008)]"
      ]
     },
     "execution_count": 26,
     "metadata": {},
     "output_type": "execute_result"
    }
   ],
   "source": [
    "# list(filter) for python3 配合 six.moves.filter for python3\n",
    "up_days = list(filter(lambda day: day.change > 0, stock_dict.values()))\n",
    "up_days"
   ]
  },
  {
   "cell_type": "code",
   "execution_count": 27,
   "metadata": {},
   "outputs": [
    {
     "name": "stdout",
     "output_type": "stream",
     "text": [
      "所有上涨的交易日：[stock(date='20170121', price='32.56', change=0.235), stock(date='20170122', price='32.82', change=0.008)]\n",
      "所有下跌的交易日：[stock(date='20170119', price='29.58', change=-0.019), stock(date='20170120', price='26.36', change=-0.109)]\n",
      "所有上涨交易日的涨幅和：0.243\n",
      "所有下跌交易日的跌幅和：-0.128\n"
     ]
    }
   ],
   "source": [
    "def filter_stock(stock_array_dict, want_up=True, want_calc_sum=False):\n",
    "    if not isinstance(stock_array_dict, OrderedDict):\n",
    "        raise TypeError('stock_array_dict must be OrderedDict!')\n",
    "    \n",
    "    # python中的三目表达式的写法\n",
    "    filter_func = (lambda day: day.change > 0) if want_up else (lambda day: day.change < 0)\n",
    "    # 使用filter_func做筛选函数\n",
    "    want_days = list(filter(filter_func, stock_array_dict.values()))\n",
    "    \n",
    "    if not want_calc_sum:\n",
    "        return want_days\n",
    "    \n",
    "    # 需要计算涨跌幅和\n",
    "    change_sum = 0.0\n",
    "    for day in want_days:\n",
    "        change_sum += day.change\n",
    "    return change_sum\n",
    "\n",
    "# 全部使用默认参数\n",
    "print('所有上涨的交易日：{}'.format(filter_stock(stock_dict)))\n",
    "# want_up=False\n",
    "print('所有下跌的交易日：{}'.format(filter_stock(stock_dict, want_up=False)))\n",
    "# 计算所有上涨的总会\n",
    "print('所有上涨交易日的涨幅和：{}'.format(filter_stock(stock_dict, want_calc_sum=True)))\n",
    "# 计算所有下跌的总会\n",
    "print('所有下跌交易日的跌幅和：{}'.format(filter_stock(stock_dict, want_up=False, want_calc_sum=True)))"
   ]
  },
  {
   "attachments": {},
   "cell_type": "markdown",
   "metadata": {},
   "source": [
    "### 2.2.4 偏函数"
   ]
  },
  {
   "cell_type": "code",
   "execution_count": 28,
   "metadata": {},
   "outputs": [
    {
     "name": "stdout",
     "output_type": "stream",
     "text": [
      "所有上涨的交易日：[stock(date='20170121', price='32.56', change=0.235), stock(date='20170122', price='32.82', change=0.008)]\n",
      "所有下跌的交易日：[stock(date='20170119', price='29.58', change=-0.019), stock(date='20170120', price='26.36', change=-0.109)]\n",
      "所有上涨交易日的涨幅和：0.243\n",
      "所有下跌交易日的跌幅和：-0.128\n"
     ]
    }
   ],
   "source": [
    "filter_stock_up_days = partial(filter_stock, want_up=True, want_calc_sum=False)\n",
    "filter_stock_down_days = partial(filter_stock, want_up=False, want_calc_sum=False)\n",
    "filter_stock_up_sums = partial(filter_stock, want_up=True, want_calc_sum=True)\n",
    "filter_stock_down_sums = partial(filter_stock, want_up=False, want_calc_sum=True)\n",
    "\n",
    "\n",
    "print('所有上涨的交易日：{}'.format(filter_stock_up_days(stock_dict)))\n",
    "print('所有下跌的交易日：{}'.format(filter_stock_down_days(stock_dict)))\n",
    "print('所有上涨交易日的涨幅和：{}'.format(filter_stock_up_sums(stock_dict)))\n",
    "print('所有下跌交易日的跌幅和：{}'.format(filter_stock_down_sums(stock_dict)))"
   ]
  },
  {
   "attachments": {},
   "cell_type": "markdown",
   "metadata": {},
   "source": [
    "## 2.3 面向对象"
   ]
  },
  {
   "attachments": {},
   "cell_type": "markdown",
   "metadata": {},
   "source": [
    "### 2.3.1 类的封装"
   ]
  },
  {
   "cell_type": "code",
   "execution_count": 29,
   "metadata": {
    "collapsed": true
   },
   "outputs": [],
   "source": [
    "from collections import namedtuple\n",
    "from collections import OrderedDict\n",
    "\n",
    "class StockTradeDays(object):\n",
    "    def __init__(self, price_array, start_date, date_array=None):\n",
    "        # 私有价格序列\n",
    "        self.__price_array = price_array\n",
    "        # 私有日期序列\n",
    "        self.__date_array = self._init_days(start_date, date_array)\n",
    "        # 私有涨跌幅序列\n",
    "        self.__change_array = self.__init_change()\n",
    "        # 进行OrderedDict的组装\n",
    "        self.stock_dict = self._init_stock_dict()\n",
    "\n",
    "    def __init_change(self):\n",
    "        \"\"\"\n",
    "        从price_array生成change_array\n",
    "        :return:\n",
    "        \"\"\"\n",
    "        price_float_array = [float(price_str) for price_str in\n",
    "                             self.__price_array]\n",
    "        # 通过将时间平移形成两个错开的收盘价序列，通过zip打包成为一个新的序列\n",
    "        # 每个元素为相邻的两个收盘价格\n",
    "        pp_array = [(price1, price2) for price1, price2 in\n",
    "                    zip(price_float_array[:-1], price_float_array[1:])]\n",
    "        change_array = list(map(lambda pp: reduce(lambda a, b: round((b - a) / a, 3), pp), pp_array))\n",
    "        # list insert插入数据，将第一天的涨跌幅设置为0\n",
    "        change_array.insert(0, 0)\n",
    "        return change_array\n",
    "\n",
    "    def _init_days(self, start_date, date_array):\n",
    "        \"\"\"\n",
    "        protect方法，\n",
    "        :param start_date: 初始日期\n",
    "        :param date_array: 给定日期序列\n",
    "        :return:\n",
    "        \"\"\"\n",
    "        if date_array is None:\n",
    "            # 由start_date和self.__price_array来确定日期序列\n",
    "            date_array = [str(start_date + ind) for ind, _ in\n",
    "                          enumerate(self.__price_array)]\n",
    "        else:\n",
    "            # 稍后的内容会使用外部直接设置的方式\n",
    "            # 如果外面设置了date_array，就直接转换str类型组成新date_array\n",
    "            date_array = [str(date) for date in date_array]\n",
    "        return date_array\n",
    "\n",
    "    def _init_stock_dict(self):\n",
    "        \"\"\"\n",
    "        使用namedtuple，OrderedDict将结果合并\n",
    "        :return:\n",
    "        \"\"\"\n",
    "        stock_namedtuple = namedtuple('stock',\n",
    "                                      ('date', 'price', 'change'))\n",
    "\n",
    "        # 使用以被赋值的__date_array等进行OrderedDict的组装\n",
    "        stock_dict = OrderedDict(\n",
    "            (date, stock_namedtuple(date, price, change))\n",
    "            for date, price, change in\n",
    "            zip(self.__date_array, self.__price_array,\n",
    "                self.__change_array))\n",
    "        return stock_dict\n",
    "\n",
    "    def filter_stock(self, want_up=True, want_calc_sum=False):\n",
    "        \"\"\"\n",
    "        筛选结果子集\n",
    "        :param want_up: 是否筛选上涨\n",
    "        :param want_calc_sum: 是否计算涨跌和\n",
    "        :return:\n",
    "        \"\"\"\n",
    "        # Python中的三目表达式的写法\n",
    "        filter_func = (lambda p_day: p_day.change > 0) if want_up else (\n",
    "            lambda p_day: p_day.change < 0)\n",
    "        # 使用filter_func做筛选函数\n",
    "        want_days = list(filter(filter_func, self.stock_dict.values()))\n",
    "\n",
    "        if not want_calc_sum:\n",
    "            return want_days\n",
    "\n",
    "        # 需要计算涨跌幅和\n",
    "        change_sum = 0.0\n",
    "        for day in want_days:\n",
    "            change_sum += day.change\n",
    "        return change_sum\n",
    "\n",
    "    \"\"\"\n",
    "        下面的__str__，__iter__， __getitem__， __len__稍后会详细讲解作\n",
    "    \"\"\"\n",
    "\n",
    "    def __str__(self):\n",
    "        return str(self.stock_dict)\n",
    "\n",
    "    __repr__ = __str__\n",
    "\n",
    "    def __iter__(self):\n",
    "        \"\"\"\n",
    "        通过代理stock_dict的跌倒，yield元素\n",
    "        :return:\n",
    "        \"\"\"\n",
    "        for key in self.stock_dict:\n",
    "            yield self.stock_dict[key]\n",
    "\n",
    "    def __getitem__(self, ind):\n",
    "        date_key = self.__date_array[ind]\n",
    "        return self.stock_dict[date_key]\n",
    "\n",
    "    def __len__(self):\n",
    "        return len(self.stock_dict)"
   ]
  },
  {
   "cell_type": "code",
   "execution_count": 30,
   "metadata": {},
   "outputs": [
    {
     "data": {
      "text/plain": [
       "OrderedDict([('20170118', stock(date='20170118', price='30.14', change=0)), ('20170119', stock(date='20170119', price='29.58', change=-0.019)), ('20170120', stock(date='20170120', price='26.36', change=-0.109)), ('20170121', stock(date='20170121', price='32.56', change=0.235)), ('20170122', stock(date='20170122', price='32.82', change=0.008))])"
      ]
     },
     "execution_count": 30,
     "metadata": {},
     "output_type": "execute_result"
    }
   ],
   "source": [
    "price_array = '30.14,29.58,26.36,32.56,32.82'.split(',')\n",
    "date_base = 20170118\n",
    "# 从StockTradeDays类初始化一个实例对象trade_days，内部会调用__init__\n",
    "trade_days = StockTradeDays(price_array, date_base)\n",
    "# 打印对象信息\n",
    "trade_days"
   ]
  },
  {
   "cell_type": "code",
   "execution_count": 31,
   "metadata": {},
   "outputs": [
    {
     "name": "stdout",
     "output_type": "stream",
     "text": [
      "trade_days对象长度为: 5\n"
     ]
    }
   ],
   "source": [
    "print('trade_days对象长度为: {}'.format(len(trade_days)))"
   ]
  },
  {
   "cell_type": "code",
   "execution_count": 32,
   "metadata": {},
   "outputs": [
    {
     "name": "stdout",
     "output_type": "stream",
     "text": [
      "stock(date='20170118', price='30.14', change=0)\n",
      "stock(date='20170119', price='29.58', change=-0.019)\n",
      "stock(date='20170120', price='26.36', change=-0.109)\n",
      "stock(date='20170121', price='32.56', change=0.235)\n",
      "stock(date='20170122', price='32.82', change=0.008)\n"
     ]
    }
   ],
   "source": [
    "from collections.abc import Iterable\n",
    "# 如果是trade_days是可迭代对象，依次打印出\n",
    "if isinstance(trade_days, Iterable) :\n",
    "    for day in trade_days:\n",
    "        print(day)"
   ]
  },
  {
   "cell_type": "code",
   "execution_count": 33,
   "metadata": {},
   "outputs": [
    {
     "data": {
      "text/plain": [
       "[stock(date='20170121', price='32.56', change=0.235),\n",
       " stock(date='20170122', price='32.82', change=0.008)]"
      ]
     },
     "execution_count": 33,
     "metadata": {},
     "output_type": "execute_result"
    }
   ],
   "source": [
    "trade_days.filter_stock()"
   ]
  },
  {
   "cell_type": "code",
   "execution_count": 34,
   "metadata": {},
   "outputs": [
    {
     "data": {
      "text/plain": [
       "([222.49, 223.54, 223.57, 224.82, 225.01],\n",
       " [20140723, 20140724, 20140725, 20140728, 20140729])"
      ]
     },
     "execution_count": 34,
     "metadata": {},
     "output_type": "execute_result"
    }
   ],
   "source": [
    "from abupy import ABuSymbolPd\n",
    "# 两年的TSLA收盘数据 to list\n",
    "price_array = ABuSymbolPd.make_kl_df('TSLA', n_folds=2).close.tolist()\n",
    "# 两年的TSLA收盘日期 to list，这里的写法不考虑效率，只做演示使用\n",
    "date_array = ABuSymbolPd.make_kl_df('TSLA', n_folds=2).date.tolist()\n",
    "price_array[:5], date_array[:5]"
   ]
  },
  {
   "cell_type": "code",
   "execution_count": 35,
   "metadata": {},
   "outputs": [
    {
     "name": "stdout",
     "output_type": "stream",
     "text": [
      "trade_days对象长度为: 504\n",
      "最后一天交易数据为：stock(date='20160726', price=225.93, change=-0.018)\n"
     ]
    }
   ],
   "source": [
    "trade_days = StockTradeDays(price_array, date_base, date_array) \n",
    "print('trade_days对象长度为: {}'.format(len(trade_days)))\n",
    "print('最后一天交易数据为：{}'.format(trade_days[-1]))"
   ]
  },
  {
   "attachments": {},
   "cell_type": "markdown",
   "metadata": {},
   "source": [
    "### 2.3.2 继承和多态"
   ]
  },
  {
   "cell_type": "code",
   "execution_count": 36,
   "metadata": {
    "collapsed": true
   },
   "outputs": [],
   "source": [
    "import six\n",
    "from abc import ABCMeta, abstractmethod\n",
    "\n",
    "\n",
    "class TradeStrategyBase(six.with_metaclass(ABCMeta, object)):\n",
    "    \"\"\"\n",
    "        交易策略抽象基类\n",
    "    \"\"\"\n",
    "\n",
    "    @abstractmethod\n",
    "    def buy_strategy(self, *args, **kwargs):\n",
    "        # 买入策略基类\n",
    "        pass\n",
    "\n",
    "    @abstractmethod\n",
    "    def sell_strategy(self, *args, **kwargs):\n",
    "        # 卖出策略基类\n",
    "        pass\n",
    "\n",
    "class TradeStrategy1(TradeStrategyBase):\n",
    "    \"\"\"\n",
    "        交易策略1: 追涨策略，当股价上涨一个阀值默认为7%时\n",
    "        买入股票并持有s_keep_stock_threshold（20）天\n",
    "    \"\"\"\n",
    "    s_keep_stock_threshold = 20\n",
    "\n",
    "    def __init__(self):\n",
    "        self.keep_stock_day = 0\n",
    "        # 7%上涨幅度作为买入策略阀值\n",
    "        self.__buy_change_threshold = 0.07\n",
    "\n",
    "    def buy_strategy(self, trade_ind, trade_day, trade_days):\n",
    "        if self.keep_stock_day == 0 and \\\n",
    "                        trade_day.change > self.__buy_change_threshold:\n",
    "\n",
    "            # 当没有持有股票的时候self.keep_stock_day == 0 并且\n",
    "            # 符合买入条件上涨一个阀值，买入\n",
    "            self.keep_stock_day += 1\n",
    "        elif self.keep_stock_day > 0:\n",
    "            # self.keep_stock_day > 0代表持有股票，持有股票天数递增\n",
    "            self.keep_stock_day += 1\n",
    "\n",
    "    def sell_strategy(self, trade_ind, trade_day, trade_days):\n",
    "        if self.keep_stock_day >= \\\n",
    "                TradeStrategy1.s_keep_stock_threshold:\n",
    "            # 当持有股票天数超过阀值s_keep_stock_threshold，卖出股票\n",
    "            self.keep_stock_day = 0\n",
    "\n",
    "    \"\"\"\n",
    "        property属性稍后会讲到\n",
    "    \"\"\"\n",
    "    @property\n",
    "    def buy_change_threshold(self):\n",
    "        return self.__buy_change_threshold\n",
    "\n",
    "    @buy_change_threshold.setter\n",
    "    def buy_change_threshold(self, buy_change_threshold):\n",
    "        if not isinstance(buy_change_threshold, float):\n",
    "            \"\"\"\n",
    "                上涨阀值需要为float类型\n",
    "            \"\"\"\n",
    "            raise TypeError('buy_change_threshold must be float!')\n",
    "        # 上涨阀值只取小数点后两位\n",
    "        self.__buy_change_threshold = round(buy_change_threshold, 2)"
   ]
  },
  {
   "cell_type": "code",
   "execution_count": 37,
   "metadata": {
    "collapsed": true
   },
   "outputs": [],
   "source": [
    "class TradeLoopBack(object):\n",
    "    \"\"\"\n",
    "        交易回测系统\n",
    "    \"\"\"\n",
    "\n",
    "    def __init__(self, trade_days, trade_strategy):\n",
    "        \"\"\"\n",
    "        使用上一节封装的StockTradeDays类和本节编写的交易策略类\n",
    "        TradeStrategyBase类初始化交易系统\n",
    "        :param trade_days: StockTradeDays交易数据序列\n",
    "        :param trade_strategy: TradeStrategyBase交易策略\n",
    "        \"\"\"\n",
    "        self.trade_days = trade_days\n",
    "        self.trade_strategy = trade_strategy\n",
    "        # 交易盈亏结果序列\n",
    "        self.profit_array = []\n",
    "\n",
    "    def execute_trade(self):\n",
    "        \"\"\"\n",
    "        执行交易回测\n",
    "        :return:\n",
    "        \"\"\"\n",
    "        for ind, day in enumerate(self.trade_days):\n",
    "            \"\"\"\n",
    "                以时间驱动，完成交易回测\n",
    "            \"\"\"\n",
    "            if self.trade_strategy.keep_stock_day > 0:\n",
    "                # 如果有持有股票，加入交易盈亏结果序列\n",
    "                self.profit_array.append(day.change)\n",
    "\n",
    "            # hasattr: 用来查询对象有没有实现某个方法\n",
    "            if hasattr(self.trade_strategy, 'buy_strategy'):\n",
    "                # 买入策略执行\n",
    "                self.trade_strategy.buy_strategy(ind, day,\n",
    "                                                 self.trade_days)\n",
    "                \n",
    "            if hasattr(self.trade_strategy, 'sell_strategy'):\n",
    "                # 卖出策略执行\n",
    "                self.trade_strategy.sell_strategy(ind, day,\n",
    "                                                  self.trade_days)"
   ]
  },
  {
   "cell_type": "code",
   "execution_count": 38,
   "metadata": {},
   "outputs": [
    {
     "name": "stdout",
     "output_type": "stream",
     "text": [
      "回测策略1 总盈亏为：37.60000000000001%\n"
     ]
    }
   ],
   "source": [
    "trade_loop_back = TradeLoopBack(trade_days, TradeStrategy1())\n",
    "trade_loop_back.execute_trade()\n",
    "print('回测策略1 总盈亏为：{}%'.format(reduce(lambda a, b: a + b, trade_loop_back.profit_array) * 100))"
   ]
  },
  {
   "cell_type": "code",
   "execution_count": 39,
   "metadata": {},
   "outputs": [
    {
     "data": {
      "image/png": "[encoded data removed]",
      "text/plain": [
       "<Figure size 1400x700 with 1 Axes>"
      ]
     },
     "metadata": {},
     "output_type": "display_data"
    }
   ],
   "source": [
    "import seaborn as sns\n",
    "import numpy as np\n",
    "import matplotlib.pyplot as plt\n",
    "%matplotlib inline\n",
    "sns.set_context(rc={'figure.figsize': (14, 7)} )\n",
    "plt.plot(np.array(trade_loop_back.profit_array).cumsum());"
   ]
  },
  {
   "attachments": {},
   "cell_type": "markdown",
   "metadata": {},
   "source": [
    "### 2.3.3 静态方法，类方法与property属性"
   ]
  },
  {
   "cell_type": "code",
   "execution_count": 40,
   "metadata": {},
   "outputs": [
    {
     "name": "stdout",
     "output_type": "stream",
     "text": [
      "回测策略1 总盈亏为：0.8000000000000004%\n"
     ]
    },
    {
     "data": {
      "image/png": "[encoded data removed]",
      "text/plain": [
       "<Figure size 1400x700 with 1 Axes>"
      ]
     },
     "metadata": {},
     "output_type": "display_data"
    }
   ],
   "source": [
    "trade_strategy1 = TradeStrategy1()\n",
    "# 买入阀值从0.07上升到0.1\n",
    "trade_strategy1.buy_change_threshold = 0.1\n",
    "trade_loop_back = TradeLoopBack(trade_days, trade_strategy1)\n",
    "trade_loop_back.execute_trade()\n",
    "print('回测策略1 总盈亏为：{}%'.format(reduce(lambda a, b: a + b, trade_loop_back.profit_array) * 100))\n",
    "# 可视化profit_array\n",
    "plt.plot(np.array(trade_loop_back.profit_array).cumsum());"
   ]
  },
  {
   "cell_type": "code",
   "execution_count": 41,
   "metadata": {
    "collapsed": true
   },
   "outputs": [],
   "source": [
    "class TradeStrategy2(TradeStrategyBase):\n",
    "    \"\"\"\n",
    "        交易策略2: 均值回复策略，当股价连续两个交易日下跌，\n",
    "        且下跌幅度超过阀值默认s_buy_change_threshold(-10%)，\n",
    "        买入股票并持有s_keep_stock_threshold（10）天\n",
    "    \"\"\"\n",
    "    # 买入后持有天数\n",
    "    s_keep_stock_threshold = 10\n",
    "    # 下跌买入阀值\n",
    "    s_buy_change_threshold = -0.10\n",
    "\n",
    "    def __init__(self):\n",
    "        self.keep_stock_day = 0\n",
    "\n",
    "    def buy_strategy(self, trade_ind, trade_day, trade_days):\n",
    "        if self.keep_stock_day == 0 and trade_ind >= 1:\n",
    "            \"\"\"\n",
    "                当没有持有股票的时候self.keep_stock_day == 0 并且\n",
    "                trade_ind >= 1, 不是交易开始的第一天，因为需要yesterday数据\n",
    "            \"\"\"\n",
    "            # trade_day.change < 0 bool：今天是否股价下跌\n",
    "            today_down = trade_day.change < 0\n",
    "            # 昨天是否股价下跌\n",
    "            yesterday_down = trade_days[trade_ind - 1].change < 0\n",
    "            # 两天总跌幅\n",
    "            down_rate = trade_day.change + \\\n",
    "                        trade_days[trade_ind - 1].change\n",
    "            if today_down and yesterday_down and down_rate < \\\n",
    "                    TradeStrategy2.s_buy_change_threshold:\n",
    "                # 买入条件成立：连跌两天，跌幅超过s_buy_change_threshold\n",
    "                self.keep_stock_day += 1\n",
    "        elif self.keep_stock_day > 0:\n",
    "            # self.keep_stock_day > 0代表持有股票，持有股票天数递增\n",
    "            self.keep_stock_day += 1\n",
    "\n",
    "    def sell_strategy(self, trade_ind, trade_day, trade_days):\n",
    "        if self.keep_stock_day >= \\\n",
    "                TradeStrategy2.s_keep_stock_threshold:\n",
    "            # 当持有股票天数超过阀值s_keep_stock_threshold，卖出股票\n",
    "            self.keep_stock_day = 0\n",
    "\n",
    "    \"\"\"\n",
    "        稍后会详细讲解classmethod，staticmethod\n",
    "    \"\"\"\n",
    "\n",
    "    @classmethod\n",
    "    def set_keep_stock_threshold(cls, keep_stock_threshold):\n",
    "        cls.s_keep_stock_threshold = keep_stock_threshold\n",
    "\n",
    "    @staticmethod\n",
    "    def set_buy_change_threshold(buy_change_threshold):\n",
    "        TradeStrategy2.s_buy_change_threshold = buy_change_threshold"
   ]
  },
  {
   "cell_type": "code",
   "execution_count": 42,
   "metadata": {},
   "outputs": [
    {
     "name": "stdout",
     "output_type": "stream",
     "text": [
      "回测策略2 总盈亏为：13.299999999999997%\n"
     ]
    },
    {
     "data": {
      "image/png": "[encoded data removed]",
      "text/plain": [
       "<Figure size 1400x700 with 1 Axes>"
      ]
     },
     "metadata": {},
     "output_type": "display_data"
    }
   ],
   "source": [
    "trade_strategy2 = TradeStrategy2()\n",
    "trade_loop_back = TradeLoopBack(trade_days, trade_strategy2)\n",
    "trade_loop_back.execute_trade()\n",
    "print('回测策略2 总盈亏为：{}%'.format(reduce(lambda a, b: a + b, trade_loop_back.profit_array) * 100))\n",
    "plt.plot(np.array(trade_loop_back.profit_array).cumsum());"
   ]
  },
  {
   "cell_type": "code",
   "execution_count": 43,
   "metadata": {},
   "outputs": [
    {
     "name": "stdout",
     "output_type": "stream",
     "text": [
      "回测策略2 总盈亏为：31.900000000000006%\n"
     ]
    },
    {
     "data": {
      "image/png": "[encoded data removed]",
      "text/plain": [
       "<Figure size 1400x700 with 1 Axes>"
      ]
     },
     "metadata": {},
     "output_type": "display_data"
    }
   ],
   "source": [
    "# 实例化一个新的TradeStrategy2类对象\n",
    "trade_strategy2 = TradeStrategy2()\n",
    "# 修改为买入后持有股票20天，默认为10天\n",
    "TradeStrategy2.set_keep_stock_threshold(20)\n",
    "# 修改股价下跌买入阀值为-0.08（下跌8%），默认为-0.10（下跌10%）\n",
    "TradeStrategy2.set_buy_change_threshold(-0.08)\n",
    "# 实例化新的回测对象trade_loop_back\n",
    "trade_loop_back = TradeLoopBack(trade_days, trade_strategy2)\n",
    "# 执行回测\n",
    "trade_loop_back.execute_trade()\n",
    "print('回测策略2 总盈亏为：{}%'.format(reduce(lambda a, b: a + b, trade_loop_back.profit_array) * 100))\n",
    "# 可视化回测结果\n",
    "plt.plot(np.array(trade_loop_back.profit_array).cumsum());"
   ]
  },
  {
   "attachments": {},
   "cell_type": "markdown",
   "metadata": {},
   "source": [
    "## 2.4 性能效率"
   ]
  },
  {
   "attachments": {},
   "cell_type": "markdown",
   "metadata": {},
   "source": [
    "##  2.4.1 itertools的使用"
   ]
  },
  {
   "cell_type": "code",
   "execution_count": 44,
   "metadata": {
    "collapsed": true
   },
   "outputs": [],
   "source": [
    "import itertools"
   ]
  },
  {
   "attachments": {},
   "cell_type": "markdown",
   "metadata": {},
   "source": [
    "permutations: 考虑顺序组合元素"
   ]
  },
  {
   "cell_type": "code",
   "execution_count": 45,
   "metadata": {},
   "outputs": [
    {
     "name": "stdout",
     "output_type": "stream",
     "text": [
      "(1, 2, 3)\n",
      "(1, 3, 2)\n",
      "(2, 1, 3)\n",
      "(2, 3, 1)\n",
      "(3, 1, 2)\n",
      "(3, 2, 1)\n"
     ]
    }
   ],
   "source": [
    "items = [1, 2, 3]\n",
    "for item in itertools.permutations(items):\n",
    "    print(item)"
   ]
  },
  {
   "cell_type": "code",
   "execution_count": 46,
   "metadata": {},
   "outputs": [
    {
     "name": "stdout",
     "output_type": "stream",
     "text": [
      "(1, 2)\n",
      "(1, 3)\n",
      "(2, 3)\n"
     ]
    }
   ],
   "source": [
    "for item in itertools.combinations(items, 2):\n",
    "    print(item)"
   ]
  },
  {
   "cell_type": "code",
   "execution_count": 47,
   "metadata": {},
   "outputs": [
    {
     "name": "stdout",
     "output_type": "stream",
     "text": [
      "(1, 1)\n",
      "(1, 2)\n",
      "(1, 3)\n",
      "(2, 2)\n",
      "(2, 3)\n",
      "(3, 3)\n"
     ]
    }
   ],
   "source": [
    "for item in itertools.combinations_with_replacement(items, 2):\n",
    "    print(item)"
   ]
  },
  {
   "cell_type": "code",
   "execution_count": 48,
   "metadata": {},
   "outputs": [
    {
     "name": "stdout",
     "output_type": "stream",
     "text": [
      "('a', 'c')\n",
      "('a', 'd')\n",
      "('b', 'c')\n",
      "('b', 'd')\n"
     ]
    }
   ],
   "source": [
    "ab = ['a', 'b']\n",
    "cd = ['c', 'd']\n",
    "\n",
    "# 针对ab，cd两个集合进行排列组合\n",
    "for item in itertools.product(ab, cd):\n",
    "    print(item)"
   ]
  },
  {
   "cell_type": "code",
   "execution_count": 49,
   "metadata": {},
   "outputs": [
    {
     "data": {
      "text/plain": [
       "(0.31900000000000006, 20, -0.08)"
      ]
     },
     "execution_count": 49,
     "metadata": {},
     "output_type": "execute_result"
    }
   ],
   "source": [
    "def calc(keep_stock_threshold, buy_change_threshold):\n",
    "    \"\"\"\n",
    "    :param keep_stock_threshold: 持股天数\n",
    "    :param buy_change_threshold: 下跌买入阀值\n",
    "    :return: 盈亏情况，输入的持股天数, 输入的下跌买入阀值\n",
    "    \"\"\"\n",
    "    # 实例化TradeStrategy2\n",
    "    trade_strategy2 = TradeStrategy2()\n",
    "    # 通过类方法设置买入后持股天数\n",
    "    TradeStrategy2.set_keep_stock_threshold(keep_stock_threshold)\n",
    "    # 通过类方法设置下跌买入阀值\n",
    "    TradeStrategy2.set_buy_change_threshold(buy_change_threshold)\n",
    "    # 进行回测\n",
    "    trade_loop_back = TradeLoopBack(trade_days, trade_strategy2)\n",
    "    trade_loop_back.execute_trade()\n",
    "    # 计算回测结果的最终盈亏值profit\n",
    "    profit = 0.0 if len(trade_loop_back.profit_array) == 0 else \\\n",
    "        reduce(lambda a, b: a + b, trade_loop_back.profit_array)\n",
    "    # 返回值profit和函数的两个输入参数\n",
    "    return profit, keep_stock_threshold, buy_change_threshold\n",
    "\n",
    "# 测试，使用上一节使用的参数\n",
    "calc(20, -0.08)"
   ]
  },
  {
   "cell_type": "code",
   "execution_count": 50,
   "metadata": {},
   "outputs": [
    {
     "name": "stdout",
     "output_type": "stream",
     "text": [
      "持股天数参数组：[2, 4, 6, 8, 10, 12, 14, 16, 18, 20, 22, 24, 26, 28]\n",
      "下跌阀值参数组：[-0.05, -0.06, -0.07, -0.08, -0.09, -0.1, -0.11, -0.12, -0.13, -0.14, -0.15]\n"
     ]
    }
   ],
   "source": [
    "# range集合：买入后持股天数从2天－30天，间隔两天\n",
    "keep_stock_list = list(range(2, 30, 2))\n",
    "print('持股天数参数组：{}'.format(keep_stock_list))\n",
    "# 下跌买入阀值从-0.05到-0.15，即从下跌5%到15%\n",
    "buy_change_list = [buy_change / 100.0 for buy_change in xrange(-5, -16, -1)]\n",
    "print('下跌阀值参数组：{}'.format(buy_change_list))"
   ]
  },
  {
   "cell_type": "code",
   "execution_count": 51,
   "metadata": {},
   "outputs": [
    {
     "name": "stdout",
     "output_type": "stream",
     "text": [
      "笛卡尔积参数集合总共结果为：154个\n"
     ]
    }
   ],
   "source": [
    "result = []\n",
    "for keep_stock_threshold, buy_change_threshold in itertools.product(\n",
    "        keep_stock_list, buy_change_list):\n",
    "    # 使用calc计算参数对应的最终盈利，结果加入result序列\n",
    "    result.append(calc(keep_stock_threshold, buy_change_threshold))\n",
    "print('笛卡尔积参数集合总共结果为：{}个'.format(len(result)))"
   ]
  },
  {
   "cell_type": "code",
   "execution_count": 52,
   "metadata": {},
   "outputs": [
    {
     "data": {
      "text/plain": [
       "[(0.5790000000000001, 28, -0.1),\n",
       " (0.519, 26, -0.1),\n",
       " (0.5019999999999999, 28, -0.05),\n",
       " (0.4770000000000001, 24, -0.1),\n",
       " (0.4660000000000001, 22, -0.1),\n",
       " (0.45100000000000007, 16, -0.09),\n",
       " (0.44999999999999996, 20, -0.06),\n",
       " (0.44800000000000006, 28, -0.07),\n",
       " (0.437, 28, -0.13),\n",
       " (0.437, 28, -0.14)]"
      ]
     },
     "execution_count": 52,
     "metadata": {},
     "output_type": "execute_result"
    }
   ],
   "source": [
    "# [::-1]将整个排序结果反转，反转后盈亏收益从最高向低排序\n",
    "# [:10]取出收益最高的前10个组合查看\n",
    "sorted(result)[::-1][:10]"
   ]
  },
  {
   "attachments": {},
   "cell_type": "markdown",
   "metadata": {},
   "source": [
    "##  2.4.2 多进程 vs 多线程"
   ]
  },
  {
   "cell_type": "code",
   "execution_count": 53,
   "metadata": {
    "collapsed": true
   },
   "outputs": [
    {
     "name": "stdout",
     "output_type": "stream",
     "text": [
      "在windows系统中使用ipython notebook进行多进程调度有系统bug。\n",
      "          子进程的结果回不到notebook中的主进程。\n",
      "          windows用户请使用python文件夹中本章对应的c2.py中的sample_242方法运行本例\n",
      "          感谢读者'宪'提出发现本问题！\n"
     ]
    }
   ],
   "source": [
    "if abupy.env.g_is_mac_os:\n",
    "    from concurrent.futures import ProcessPoolExecutor\n",
    "    # mac下面执行多进程\n",
    "    result = []\n",
    "\n",
    "    # 回调函数，通过add_done_callback任务完成后调用\n",
    "    def when_done(r):\n",
    "        # when_done在主进程中运行\n",
    "        result.append(r.result())\n",
    "\n",
    "    \"\"\"\n",
    "        with class_a() as a: 上下文管理器：稍后会具体讲解\n",
    "    \"\"\"\n",
    "    with ProcessPoolExecutor() as pool:\n",
    "        for keep_stock_threshold, buy_change_threshold in \\\n",
    "                itertools.product(keep_stock_list, buy_change_list):\n",
    "\n",
    "            \"\"\"\n",
    "                submit提交任务：使用calc函数和的参数通过submit提交到独立进程\n",
    "                提交的任务必须是简单函数，进程并行不支持类方法、闭包等\n",
    "                函数参数和返回值必须兼容pickle序列化，进程间的通信需要\n",
    "            \"\"\"\n",
    "            future_result = pool.submit(calc, keep_stock_threshold,\n",
    "                                        buy_change_threshold)\n",
    "            # 当进程完成任务即calc运行结束后的回调函数\n",
    "            future_result.add_done_callback(when_done)\n",
    "    print(sorted(result)[::-1][:10])\n",
    "else:\n",
    "    print('在windows系统中使用ipython notebook进行多进程调度有系统bug。\\n\\\n",
    "          子进程的结果回不到notebook中的主进程。\\n\\\n",
    "          windows用户请使用python文件夹中本章对应的c2.py中的sample_242方法运行本例\\n\\\n",
    "          感谢读者\\'宪\\'提出发现本问题！')"
   ]
  },
  {
   "cell_type": "code",
   "execution_count": 54,
   "metadata": {
    "collapsed": true
   },
   "outputs": [],
   "source": [
    "from concurrent.futures import ThreadPoolExecutor\n",
    "\n",
    "result = []\n",
    "def when_done(r):\n",
    "    result.append(r.result())\n",
    "\n",
    "with ThreadPoolExecutor(max_workers=8) as pool:\n",
    "    for keep_stock_threshold, buy_change_threshold in \\\n",
    "            itertools.product(keep_stock_list, buy_change_list):\n",
    "        future_result = pool.submit(calc, keep_stock_threshold,\n",
    "                                    buy_change_threshold)\n",
    "        future_result.add_done_callback(when_done)"
   ]
  },
  {
   "cell_type": "code",
   "execution_count": 55,
   "metadata": {},
   "outputs": [
    {
     "data": {
      "text/plain": [
       "[(0.5790000000000001, 28, -0.1),\n",
       " (0.5459999999999999, 12, -0.11),\n",
       " (0.519, 26, -0.1),\n",
       " (0.5019999999999999, 28, -0.05),\n",
       " (0.49499999999999994, 28, -0.07),\n",
       " (0.4770000000000001, 24, -0.1),\n",
       " (0.4660000000000001, 22, -0.1),\n",
       " (0.45100000000000007, 16, -0.09),\n",
       " (0.44999999999999996, 20, -0.06),\n",
       " (0.437, 28, -0.13)]"
      ]
     },
     "execution_count": 55,
     "metadata": {},
     "output_type": "execute_result"
    }
   ],
   "source": [
    "sorted(result)[::-1][:10]"
   ]
  },
  {
   "attachments": {},
   "cell_type": "markdown",
   "metadata": {},
   "source": [
    "##  2.4.3 使用编译库提高性能"
   ]
  },
  {
   "cell_type": "code",
   "execution_count": 56,
   "metadata": {},
   "outputs": [
    {
     "name": "stdout",
     "output_type": "stream",
     "text": [
      "笛卡尔积参数集合总共结果为：49797个\n"
     ]
    },
    {
     "name": "stdout",
     "output_type": "stream",
     "text": [
      "CPU times: total: 20.5 s\n",
      "Wall time: 20.6 s\n"
     ]
    }
   ],
   "source": [
    "# 买入后持股天数放大寻找范围 1 - 503 天, 间隔1天\n",
    "keep_stock_list = list(range(1, 504, 1))\n",
    "# 下跌买入阀值寻找范围 -0.01 - -0.99 共99个\n",
    "buy_change_list = [buy_change/100.0 for buy_change in xrange(-1, -100, -1)]\n",
    "def do_single_task():\n",
    "    task_list = list(itertools.product(keep_stock_list, buy_change_list))\n",
    "    print('笛卡尔积参数集合总共结果为：{}个'.format(len(task_list)))\n",
    "    for keep_stock_threshold, buy_change_threshold in task_list:\n",
    "        calc(keep_stock_threshold, buy_change_threshold)\n",
    "# %time ipython magic code 详情查阅附录章关于ipython的使用\n",
    "%time do_single_task()"
   ]
  },
  {
   "cell_type": "code",
   "execution_count": 57,
   "metadata": {},
   "outputs": [
    {
     "name": "stderr",
     "output_type": "stream",
     "text": [
      "finding looplift candidates\n"
     ]
    },
    {
     "name": "stdout",
     "output_type": "stream",
     "text": [
      "笛卡尔积参数集合总共结果为：49797个\n",
      "CPU times: total: 20.9 s\n",
      "Wall time: 21.1 s\n"
     ]
    }
   ],
   "source": [
    "import numba as nb\n",
    "do_single_task_nb = nb.jit(do_single_task)\n",
    "%time do_single_task_nb()"
   ]
  },
  {
   "attachments": {},
   "cell_type": "markdown",
   "metadata": {},
   "source": [
    "## 2.5 代码调试"
   ]
  },
  {
   "cell_type": "code",
   "execution_count": 58,
   "metadata": {
    "collapsed": true
   },
   "outputs": [],
   "source": [
    "def gen_buy_change_list():\n",
    "    buy_change_list = []\n",
    "    # 下跌买入阀值从-0.05到-0.15，即从下跌5%到15%\n",
    "    for buy_change in xrange(-5, -16, -1):\n",
    "        buy_change = buy_change/100\n",
    "        buy_change_list.append(buy_change)\n",
    "    return buy_change_list"
   ]
  },
  {
   "attachments": {},
   "cell_type": "markdown",
   "metadata": {},
   "source": [
    "### 书中本示例针对python3不适用，因为python3默认的除法就是小数"
   ]
  },
  {
   "cell_type": "code",
   "execution_count": 59,
   "metadata": {},
   "outputs": [
    {
     "data": {
      "text/plain": [
       "[-0.05, -0.06, -0.07, -0.08, -0.09, -0.1, -0.11, -0.12, -0.13, -0.14, -0.15]"
      ]
     },
     "execution_count": 59,
     "metadata": {},
     "output_type": "execute_result"
    }
   ],
   "source": [
    "gen_buy_change_list()"
   ]
  },
  {
   "cell_type": "code",
   "execution_count": 60,
   "metadata": {
    "collapsed": true
   },
   "outputs": [],
   "source": [
    "def gen_buy_change_list():\n",
    "    buy_change_list = []\n",
    "    for buy_change in xrange(-5, -16, -1):\n",
    "        # 1. 原始buy_change\n",
    "        print(buy_change)\n",
    "        buy_change = buy_change/100\n",
    "        # 2. buy_change/100\n",
    "        print(buy_change)\n",
    "        buy_change_list.append(buy_change)\n",
    "    return buy_change_list"
   ]
  },
  {
   "cell_type": "code",
   "execution_count": 61,
   "metadata": {},
   "outputs": [
    {
     "data": {
      "text/plain": [
       "[-0.05, -0.06, -0.07, -0.08, -0.09, -0.1, -0.11, -0.12, -0.13, -0.14, -0.15]"
      ]
     },
     "execution_count": 61,
     "metadata": {},
     "output_type": "execute_result"
    }
   ],
   "source": [
    "# 2. 导入future库的division`from __future__ import division`\n",
    "from __future__ import division\n",
    "\n",
    "def gen_buy_change_list():\n",
    "    buy_change_list = []\n",
    "    for buy_change in xrange(-5, -16, -1):\n",
    "        # 1. 除数或者被除数其中一个是float类型\n",
    "        buy_change = buy_change/100.0\n",
    "        buy_change_list.append(buy_change)\n",
    "    return buy_change_list\n",
    "gen_buy_change_list()"
   ]
  },
  {
   "cell_type": "code",
   "execution_count": 62,
   "metadata": {},
   "outputs": [
    {
     "name": "stderr",
     "output_type": "stream",
     "text": [
      "gen_buy_change_list begin\n",
      "gen_buy_change_list end\n"
     ]
    }
   ],
   "source": [
    "import logging\n",
    "\n",
    "# 设置日志级别为info\n",
    "logging.basicConfig(level=logging.INFO)\n",
    "\n",
    "\n",
    "def gen_buy_change_list():\n",
    "    # 会打印出来，因为info >= level=logging.INFO\n",
    "    logging.info(\"gen_buy_change_list begin\")\n",
    "\n",
    "    buy_change_list = []\n",
    "    for buy_change in xrange(-5, -16, -1):\n",
    "        # 不会打印出来，debug < level=logging.INFO\n",
    "        logging.debug(buy_change)\n",
    "        buy_change = buy_change / 100\n",
    "        # 不会打印出来，debug < level=logging.INFO\n",
    "        logging.debug(buy_change)\n",
    "        buy_change_list.append(buy_change)\n",
    "    # 会打印出来，因为info >= level=logging.INFO\n",
    "    logging.info(\"gen_buy_change_list end\")\n",
    "    return buy_change_list\n",
    "\n",
    "\n",
    "_ = gen_buy_change_list()"
   ]
  },
  {
   "cell_type": "code",
   "execution_count": 63,
   "metadata": {},
   "outputs": [
    {
     "name": "stdout",
     "output_type": "stream",
     "text": [
      "> \u001b[1;32mc:\\users\\hasee\\appdata\\local\\temp\\ipykernel_19104\\1181137762.py\u001b[0m(12)\u001b[0;36mgen_buy_change_list\u001b[1;34m()\u001b[0m\n",
      "\n"
     ]
    }
   ],
   "source": [
    "import pdb\n",
    "\n",
    "\n",
    "def gen_buy_change_list():\n",
    "    buy_change_list = []\n",
    "    for buy_change in xrange(-5, -16, -1):\n",
    "        # 只针对循环执行到buy_change == -10，中断开始调试\n",
    "        if buy_change == -10:\n",
    "            # 打断点，通过set_trace\n",
    "            pdb.set_trace()\n",
    "\n",
    "        buy_change = buy_change / 100\n",
    "        buy_change_list.append(buy_change)\n",
    "    # 故意向外抛出异常\n",
    "    raise RuntimeError('debug for pdb')\n",
    "    return buy_change_list\n",
    "\n",
    "try:\n",
    "    _ = gen_buy_change_list()\n",
    "except Exception as e:\n",
    "    # 从捕获异常的地方开始调试，经常使用的调试技巧\n",
    "    pdb.set_trace()"
   ]
  },
  {
   "cell_type": "code",
   "execution_count": null,
   "metadata": {
    "collapsed": true
   },
   "outputs": [],
   "source": []
  }
 ],
 "metadata": {
  "anaconda-cloud": {},
  "kernelspec": {
   "display_name": "Python 3",
   "language": "python",
   "name": "python3"
  },
  "language_info": {
   "codemirror_mode": {
    "name": "ipython",
    "version": 3
   },
   "file_extension": ".py",
   "mimetype": "text/x-python",
   "name": "python",
   "nbconvert_exporter": "python",
   "pygments_lexer": "ipython3",
   "version": "3.11.3"
  }
 },
 "nbformat": 4,
 "nbformat_minor": 1
}
